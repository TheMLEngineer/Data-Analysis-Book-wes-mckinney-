{
  "nbformat": 4,
  "nbformat_minor": 0,
  "metadata": {
    "colab": {
      "name": "Chapter4_NumPy.ipynb",
      "provenance": [],
      "collapsed_sections": [],
      "include_colab_link": true
    },
    "kernelspec": {
      "name": "python3",
      "display_name": "Python 3"
    }
  },
  "cells": [
    {
      "cell_type": "markdown",
      "metadata": {
        "id": "view-in-github",
        "colab_type": "text"
      },
      "source": [
        "<a href=\"https://colab.research.google.com/github/TheMLEngineer/Data-Analysis-Book-wes-mckinney-/blob/master/Chapter4_NumPy.ipynb\" target=\"_parent\"><img src=\"https://colab.research.google.com/assets/colab-badge.svg\" alt=\"Open In Colab\"/></a>"
      ]
    },
    {
      "cell_type": "code",
      "metadata": {
        "id": "-KNA6g3PjUVl",
        "colab_type": "code",
        "colab": {}
      },
      "source": [
        "import numpy as np"
      ],
      "execution_count": 0,
      "outputs": []
    },
    {
      "cell_type": "code",
      "metadata": {
        "id": "KDcvOtAbkDXL",
        "colab_type": "code",
        "colab": {}
      },
      "source": [
        "my_arr = np.arange(1000000)\n",
        "my_list = list(range(1000000))"
      ],
      "execution_count": 0,
      "outputs": []
    },
    {
      "cell_type": "code",
      "metadata": {
        "id": "_-LzoxWgkD2G",
        "colab_type": "code",
        "outputId": "56cd8463-b848-486d-96eb-a9fe7f23882e",
        "colab": {
          "base_uri": "https://localhost:8080/",
          "height": 90
        }
      },
      "source": [
        "%time for _ in range(10): my_arr2 = my_arr * 2\n",
        "%time for _ in range(10): my_list2 = [x * 2 for x in my_list]"
      ],
      "execution_count": 704,
      "outputs": [
        {
          "output_type": "stream",
          "text": [
            "CPU times: user 16.8 ms, sys: 1.13 ms, total: 18 ms\n",
            "Wall time: 19.5 ms\n",
            "CPU times: user 610 ms, sys: 160 ms, total: 770 ms\n",
            "Wall time: 773 ms\n"
          ],
          "name": "stdout"
        }
      ]
    },
    {
      "cell_type": "code",
      "metadata": {
        "id": "wBWelnI1kD7d",
        "colab_type": "code",
        "colab": {}
      },
      "source": [
        "# Numpy arrays are faster than lists"
      ],
      "execution_count": 0,
      "outputs": []
    },
    {
      "cell_type": "code",
      "metadata": {
        "id": "Buhes6rakEG6",
        "colab_type": "code",
        "colab": {}
      },
      "source": [
        "a = np.random.randn(2,3)"
      ],
      "execution_count": 0,
      "outputs": []
    },
    {
      "cell_type": "code",
      "metadata": {
        "id": "ezh6NKhrkEVC",
        "colab_type": "code",
        "outputId": "b2a01729-0de2-4faa-cbe2-e56aefb87d29",
        "colab": {
          "base_uri": "https://localhost:8080/",
          "height": 54
        }
      },
      "source": [
        "a "
      ],
      "execution_count": 707,
      "outputs": [
        {
          "output_type": "execute_result",
          "data": {
            "text/plain": [
              "array([[-1.3070351 ,  0.49950592,  1.07931588],\n",
              "       [ 1.15248237, -1.03045417, -0.21680052]])"
            ]
          },
          "metadata": {
            "tags": []
          },
          "execution_count": 707
        }
      ]
    },
    {
      "cell_type": "code",
      "metadata": {
        "id": "zmF-64lWkEtH",
        "colab_type": "code",
        "outputId": "5e7f4e6f-e5cc-4fd0-a356-ae24d501f50d",
        "colab": {
          "base_uri": "https://localhost:8080/",
          "height": 54
        }
      },
      "source": [
        "a+a"
      ],
      "execution_count": 708,
      "outputs": [
        {
          "output_type": "execute_result",
          "data": {
            "text/plain": [
              "array([[-2.6140702 ,  0.99901183,  2.15863176],\n",
              "       [ 2.30496474, -2.06090835, -0.43360103]])"
            ]
          },
          "metadata": {
            "tags": []
          },
          "execution_count": 708
        }
      ]
    },
    {
      "cell_type": "code",
      "metadata": {
        "id": "NBQf8OYekE5A",
        "colab_type": "code",
        "outputId": "f6a25dbe-8ef7-4d3c-8833-edeb0b81b323",
        "colab": {
          "base_uri": "https://localhost:8080/",
          "height": 54
        }
      },
      "source": [
        "a*a"
      ],
      "execution_count": 709,
      "outputs": [
        {
          "output_type": "execute_result",
          "data": {
            "text/plain": [
              "array([[1.70834075, 0.24950616, 1.16492277],\n",
              "       [1.32821561, 1.06183581, 0.04700246]])"
            ]
          },
          "metadata": {
            "tags": []
          },
          "execution_count": 709
        }
      ]
    },
    {
      "cell_type": "code",
      "metadata": {
        "id": "jgpNo2cHkE-3",
        "colab_type": "code",
        "outputId": "3f409647-9723-4e56-b279-dcf35013dc07",
        "colab": {
          "base_uri": "https://localhost:8080/",
          "height": 35
        }
      },
      "source": [
        "a.shape"
      ],
      "execution_count": 710,
      "outputs": [
        {
          "output_type": "execute_result",
          "data": {
            "text/plain": [
              "(2, 3)"
            ]
          },
          "metadata": {
            "tags": []
          },
          "execution_count": 710
        }
      ]
    },
    {
      "cell_type": "code",
      "metadata": {
        "id": "o1mkSzA8kFfX",
        "colab_type": "code",
        "outputId": "4eeea9ef-ccf2-48ca-9b34-b832c62d1383",
        "colab": {
          "base_uri": "https://localhost:8080/",
          "height": 35
        }
      },
      "source": [
        "a.dtype"
      ],
      "execution_count": 711,
      "outputs": [
        {
          "output_type": "execute_result",
          "data": {
            "text/plain": [
              "dtype('float64')"
            ]
          },
          "metadata": {
            "tags": []
          },
          "execution_count": 711
        }
      ]
    },
    {
      "cell_type": "code",
      "metadata": {
        "id": "nfj18IkKkFnL",
        "colab_type": "code",
        "colab": {}
      },
      "source": [
        "a1 = np.array([1,2.5,3])"
      ],
      "execution_count": 0,
      "outputs": []
    },
    {
      "cell_type": "code",
      "metadata": {
        "id": "YQ9bObu8kF3H",
        "colab_type": "code",
        "outputId": "5fb8cdd8-37e5-48cf-bf20-2d2f022a12d1",
        "colab": {
          "base_uri": "https://localhost:8080/",
          "height": 35
        }
      },
      "source": [
        "a1"
      ],
      "execution_count": 713,
      "outputs": [
        {
          "output_type": "execute_result",
          "data": {
            "text/plain": [
              "array([1. , 2.5, 3. ])"
            ]
          },
          "metadata": {
            "tags": []
          },
          "execution_count": 713
        }
      ]
    },
    {
      "cell_type": "code",
      "metadata": {
        "id": "GIirCYt4kF-7",
        "colab_type": "code",
        "colab": {}
      },
      "source": [
        "a2 = np.array([[1,2,3] , [4,5,6]])"
      ],
      "execution_count": 0,
      "outputs": []
    },
    {
      "cell_type": "code",
      "metadata": {
        "id": "n4gW1Ew8kF1Z",
        "colab_type": "code",
        "outputId": "828db613-0255-4cb9-f8fc-398867dc0a53",
        "colab": {
          "base_uri": "https://localhost:8080/",
          "height": 54
        }
      },
      "source": [
        "a2"
      ],
      "execution_count": 715,
      "outputs": [
        {
          "output_type": "execute_result",
          "data": {
            "text/plain": [
              "array([[1, 2, 3],\n",
              "       [4, 5, 6]])"
            ]
          },
          "metadata": {
            "tags": []
          },
          "execution_count": 715
        }
      ]
    },
    {
      "cell_type": "code",
      "metadata": {
        "id": "0NmRpTH2kFyd",
        "colab_type": "code",
        "outputId": "d9542676-9f5f-4180-f67f-7264fcf7c894",
        "colab": {
          "base_uri": "https://localhost:8080/",
          "height": 35
        }
      },
      "source": [
        "a2.ndim"
      ],
      "execution_count": 716,
      "outputs": [
        {
          "output_type": "execute_result",
          "data": {
            "text/plain": [
              "2"
            ]
          },
          "metadata": {
            "tags": []
          },
          "execution_count": 716
        }
      ]
    },
    {
      "cell_type": "code",
      "metadata": {
        "id": "miMBKsgQkFvC",
        "colab_type": "code",
        "outputId": "2b42e0cb-4f6a-46c3-d1c4-ca13bf32163f",
        "colab": {
          "base_uri": "https://localhost:8080/",
          "height": 35
        }
      },
      "source": [
        "a2.shape"
      ],
      "execution_count": 717,
      "outputs": [
        {
          "output_type": "execute_result",
          "data": {
            "text/plain": [
              "(2, 3)"
            ]
          },
          "metadata": {
            "tags": []
          },
          "execution_count": 717
        }
      ]
    },
    {
      "cell_type": "code",
      "metadata": {
        "id": "HRQ1izOmkFt4",
        "colab_type": "code",
        "outputId": "8decbd22-241b-4b9d-ee98-a5e6d47c7922",
        "colab": {
          "base_uri": "https://localhost:8080/",
          "height": 35
        }
      },
      "source": [
        "a1.dtype"
      ],
      "execution_count": 718,
      "outputs": [
        {
          "output_type": "execute_result",
          "data": {
            "text/plain": [
              "dtype('float64')"
            ]
          },
          "metadata": {
            "tags": []
          },
          "execution_count": 718
        }
      ]
    },
    {
      "cell_type": "code",
      "metadata": {
        "id": "unFIxeurkFsY",
        "colab_type": "code",
        "outputId": "1f7bba61-1cd5-4e40-ef9d-bd636fde48cf",
        "colab": {
          "base_uri": "https://localhost:8080/",
          "height": 35
        }
      },
      "source": [
        "a2.dtype"
      ],
      "execution_count": 719,
      "outputs": [
        {
          "output_type": "execute_result",
          "data": {
            "text/plain": [
              "dtype('int64')"
            ]
          },
          "metadata": {
            "tags": []
          },
          "execution_count": 719
        }
      ]
    },
    {
      "cell_type": "code",
      "metadata": {
        "id": "uLVjcDJSkFmD",
        "colab_type": "code",
        "outputId": "42c696f4-5311-4db8-be8f-d76ee082e04b",
        "colab": {
          "base_uri": "https://localhost:8080/",
          "height": 146
        }
      },
      "source": [
        "np.empty((2,3,2))"
      ],
      "execution_count": 720,
      "outputs": [
        {
          "output_type": "execute_result",
          "data": {
            "text/plain": [
              "array([[[2.91499680e-316, 2.44029516e-312],\n",
              "        [2.56761491e-312, 2.14321575e-312],\n",
              "        [2.44029516e-312, 2.46151512e-312]],\n",
              "\n",
              "       [[2.10077583e-312, 2.37663529e-312],\n",
              "        [2.22809558e-312, 2.33419537e-312],\n",
              "        [8.70018274e-313, 1.35441148e-306]]])"
            ]
          },
          "metadata": {
            "tags": []
          },
          "execution_count": 720
        }
      ]
    },
    {
      "cell_type": "code",
      "metadata": {
        "id": "s7yfmimVkFdd",
        "colab_type": "code",
        "outputId": "0a22d4e3-4752-47fd-bc8f-ccec68edf1d8",
        "colab": {
          "base_uri": "https://localhost:8080/",
          "height": 274
        }
      },
      "source": [
        "np.zeros((3 , 4 , 5))"
      ],
      "execution_count": 721,
      "outputs": [
        {
          "output_type": "execute_result",
          "data": {
            "text/plain": [
              "array([[[0., 0., 0., 0., 0.],\n",
              "        [0., 0., 0., 0., 0.],\n",
              "        [0., 0., 0., 0., 0.],\n",
              "        [0., 0., 0., 0., 0.]],\n",
              "\n",
              "       [[0., 0., 0., 0., 0.],\n",
              "        [0., 0., 0., 0., 0.],\n",
              "        [0., 0., 0., 0., 0.],\n",
              "        [0., 0., 0., 0., 0.]],\n",
              "\n",
              "       [[0., 0., 0., 0., 0.],\n",
              "        [0., 0., 0., 0., 0.],\n",
              "        [0., 0., 0., 0., 0.],\n",
              "        [0., 0., 0., 0., 0.]]])"
            ]
          },
          "metadata": {
            "tags": []
          },
          "execution_count": 721
        }
      ]
    },
    {
      "cell_type": "code",
      "metadata": {
        "id": "g1RX3FxUkFZv",
        "colab_type": "code",
        "outputId": "fa067c83-7ce3-44ce-f716-3d73fa3f6fea",
        "colab": {
          "base_uri": "https://localhost:8080/",
          "height": 35
        }
      },
      "source": [
        "np.arange(15)"
      ],
      "execution_count": 722,
      "outputs": [
        {
          "output_type": "execute_result",
          "data": {
            "text/plain": [
              "array([ 0,  1,  2,  3,  4,  5,  6,  7,  8,  9, 10, 11, 12, 13, 14])"
            ]
          },
          "metadata": {
            "tags": []
          },
          "execution_count": 722
        }
      ]
    },
    {
      "cell_type": "code",
      "metadata": {
        "id": "5BNzyRj1kFWl",
        "colab_type": "code",
        "outputId": "bc248ec5-a64a-4482-ee4d-1f69398218a1",
        "colab": {
          "base_uri": "https://localhost:8080/",
          "height": 35
        }
      },
      "source": [
        "np.ones(3)"
      ],
      "execution_count": 723,
      "outputs": [
        {
          "output_type": "execute_result",
          "data": {
            "text/plain": [
              "array([1., 1., 1.])"
            ]
          },
          "metadata": {
            "tags": []
          },
          "execution_count": 723
        }
      ]
    },
    {
      "cell_type": "code",
      "metadata": {
        "id": "kaiER7wDkFUm",
        "colab_type": "code",
        "outputId": "3e23e114-24ea-4f43-af6c-a28a22e21abb",
        "colab": {
          "base_uri": "https://localhost:8080/",
          "height": 35
        }
      },
      "source": [
        "np.asarray([1,2,3])"
      ],
      "execution_count": 724,
      "outputs": [
        {
          "output_type": "execute_result",
          "data": {
            "text/plain": [
              "array([1, 2, 3])"
            ]
          },
          "metadata": {
            "tags": []
          },
          "execution_count": 724
        }
      ]
    },
    {
      "cell_type": "code",
      "metadata": {
        "id": "GzqXUFn9kFS3",
        "colab_type": "code",
        "outputId": "09b3275e-b2a3-4553-e91c-b4ed8180fdb1",
        "colab": {
          "base_uri": "https://localhost:8080/",
          "height": 35
        }
      },
      "source": [
        "np.empty(3)"
      ],
      "execution_count": 725,
      "outputs": [
        {
          "output_type": "execute_result",
          "data": {
            "text/plain": [
              "array([1., 1., 1.])"
            ]
          },
          "metadata": {
            "tags": []
          },
          "execution_count": 725
        }
      ]
    },
    {
      "cell_type": "code",
      "metadata": {
        "id": "Ofw79pKnkFOz",
        "colab_type": "code",
        "outputId": "68b20f64-5fad-412b-8f92-b7ba55f49c3b",
        "colab": {
          "base_uri": "https://localhost:8080/",
          "height": 35
        }
      },
      "source": [
        "np.full(3 , fill_value=2)"
      ],
      "execution_count": 726,
      "outputs": [
        {
          "output_type": "execute_result",
          "data": {
            "text/plain": [
              "array([2, 2, 2])"
            ]
          },
          "metadata": {
            "tags": []
          },
          "execution_count": 726
        }
      ]
    },
    {
      "cell_type": "code",
      "metadata": {
        "id": "zsBTR8fekFMe",
        "colab_type": "code",
        "outputId": "13f2b6d1-0d75-441d-8eee-6b51e408f096",
        "colab": {
          "base_uri": "https://localhost:8080/",
          "height": 72
        }
      },
      "source": [
        "np.eye(3)"
      ],
      "execution_count": 727,
      "outputs": [
        {
          "output_type": "execute_result",
          "data": {
            "text/plain": [
              "array([[1., 0., 0.],\n",
              "       [0., 1., 0.],\n",
              "       [0., 0., 1.]])"
            ]
          },
          "metadata": {
            "tags": []
          },
          "execution_count": 727
        }
      ]
    },
    {
      "cell_type": "code",
      "metadata": {
        "id": "sSUp60w6kFKO",
        "colab_type": "code",
        "outputId": "7130c5d3-557a-41ca-d24a-9b43ddb283c7",
        "colab": {
          "base_uri": "https://localhost:8080/",
          "height": 35
        }
      },
      "source": [
        "np.array([1,2,3] , dtype = np.int64)"
      ],
      "execution_count": 728,
      "outputs": [
        {
          "output_type": "execute_result",
          "data": {
            "text/plain": [
              "array([1, 2, 3])"
            ]
          },
          "metadata": {
            "tags": []
          },
          "execution_count": 728
        }
      ]
    },
    {
      "cell_type": "code",
      "metadata": {
        "id": "q46DqtZwkFI8",
        "colab_type": "code",
        "outputId": "011a0bda-6bc2-4e3b-84df-47ac83e49c1e",
        "colab": {
          "base_uri": "https://localhost:8080/",
          "height": 35
        }
      },
      "source": [
        "np.array([1,2,3] , dtype = np.float64)"
      ],
      "execution_count": 729,
      "outputs": [
        {
          "output_type": "execute_result",
          "data": {
            "text/plain": [
              "array([1., 2., 3.])"
            ]
          },
          "metadata": {
            "tags": []
          },
          "execution_count": 729
        }
      ]
    },
    {
      "cell_type": "code",
      "metadata": {
        "id": "3Zv7niLGkFHz",
        "colab_type": "code",
        "outputId": "e8641ceb-49a1-4759-9245-f634b51cbab1",
        "colab": {
          "base_uri": "https://localhost:8080/",
          "height": 35
        }
      },
      "source": [
        "type(np.array([1,2,3] , dtype = np.float64))"
      ],
      "execution_count": 730,
      "outputs": [
        {
          "output_type": "execute_result",
          "data": {
            "text/plain": [
              "numpy.ndarray"
            ]
          },
          "metadata": {
            "tags": []
          },
          "execution_count": 730
        }
      ]
    },
    {
      "cell_type": "code",
      "metadata": {
        "id": "bHg8IkpkkFEc",
        "colab_type": "code",
        "outputId": "d32e41e1-ae90-42c5-a31e-38076c308bb7",
        "colab": {
          "base_uri": "https://localhost:8080/",
          "height": 35
        }
      },
      "source": [
        "type(np.array([1,2,3] , dtype = np.int64))"
      ],
      "execution_count": 731,
      "outputs": [
        {
          "output_type": "execute_result",
          "data": {
            "text/plain": [
              "numpy.ndarray"
            ]
          },
          "metadata": {
            "tags": []
          },
          "execution_count": 731
        }
      ]
    },
    {
      "cell_type": "code",
      "metadata": {
        "id": "Z0Jd0VT0kE20",
        "colab_type": "code",
        "outputId": "142acbfa-ef59-4c8e-bb13-3141ec4c333d",
        "colab": {
          "base_uri": "https://localhost:8080/",
          "height": 35
        }
      },
      "source": [
        "np.array([1,2,3] , dtype = np.string_)"
      ],
      "execution_count": 732,
      "outputs": [
        {
          "output_type": "execute_result",
          "data": {
            "text/plain": [
              "array([b'1', b'2', b'3'], dtype='|S1')"
            ]
          },
          "metadata": {
            "tags": []
          },
          "execution_count": 732
        }
      ]
    },
    {
      "cell_type": "code",
      "metadata": {
        "id": "wPV0lmcbkE1Q",
        "colab_type": "code",
        "outputId": "f933c5c3-9d5e-47dd-c566-400b8106f2f0",
        "colab": {
          "base_uri": "https://localhost:8080/",
          "height": 35
        }
      },
      "source": [
        "np.array([1,2,3] , dtype = np.unicode_)"
      ],
      "execution_count": 733,
      "outputs": [
        {
          "output_type": "execute_result",
          "data": {
            "text/plain": [
              "array(['1', '2', '3'], dtype='<U1')"
            ]
          },
          "metadata": {
            "tags": []
          },
          "execution_count": 733
        }
      ]
    },
    {
      "cell_type": "code",
      "metadata": {
        "id": "6uSYXj0mkEyo",
        "colab_type": "code",
        "outputId": "2fcd79b0-f16e-40da-db65-73755e93ce84",
        "colab": {
          "base_uri": "https://localhost:8080/",
          "height": 35
        }
      },
      "source": [
        "np.array([1,2,3]).astype(np.float64)"
      ],
      "execution_count": 734,
      "outputs": [
        {
          "output_type": "execute_result",
          "data": {
            "text/plain": [
              "array([1., 2., 3.])"
            ]
          },
          "metadata": {
            "tags": []
          },
          "execution_count": 734
        }
      ]
    },
    {
      "cell_type": "code",
      "metadata": {
        "id": "F0xJoXjCkErZ",
        "colab_type": "code",
        "outputId": "9d248914-00d8-4ca5-86ce-75c391473743",
        "colab": {
          "base_uri": "https://localhost:8080/",
          "height": 35
        }
      },
      "source": [
        "arr = np.array([3.7, -1.2, -2.6, 0.5, 12.9, 10.1])\n",
        "arr\n",
        "arr.astype(np.int32)"
      ],
      "execution_count": 735,
      "outputs": [
        {
          "output_type": "execute_result",
          "data": {
            "text/plain": [
              "array([ 3, -1, -2,  0, 12, 10], dtype=int32)"
            ]
          },
          "metadata": {
            "tags": []
          },
          "execution_count": 735
        }
      ]
    },
    {
      "cell_type": "code",
      "metadata": {
        "id": "pI6Fp6O2kEnP",
        "colab_type": "code",
        "colab": {}
      },
      "source": [
        "a = np.arange(15)"
      ],
      "execution_count": 0,
      "outputs": []
    },
    {
      "cell_type": "code",
      "metadata": {
        "id": "ZxcLlvi8kEkP",
        "colab_type": "code",
        "colab": {}
      },
      "source": [
        "b = np.array([3.7, -1.2, -2.6, 0.5, 12.9, 10.1 ] , dtype = np.float64)"
      ],
      "execution_count": 0,
      "outputs": []
    },
    {
      "cell_type": "code",
      "metadata": {
        "id": "Qoki689ikEhj",
        "colab_type": "code",
        "outputId": "759d88e6-eb11-4bfb-99d4-42586f7376e3",
        "colab": {
          "base_uri": "https://localhost:8080/",
          "height": 54
        }
      },
      "source": [
        "a.astype(b.dtype)\n",
        "\n",
        "#All floats are converted to int"
      ],
      "execution_count": 738,
      "outputs": [
        {
          "output_type": "execute_result",
          "data": {
            "text/plain": [
              "array([ 0.,  1.,  2.,  3.,  4.,  5.,  6.,  7.,  8.,  9., 10., 11., 12.,\n",
              "       13., 14.])"
            ]
          },
          "metadata": {
            "tags": []
          },
          "execution_count": 738
        }
      ]
    },
    {
      "cell_type": "code",
      "metadata": {
        "id": "MhwJFTH3kEex",
        "colab_type": "code",
        "outputId": "27c05c21-bb6a-4617-e083-cef2f90f250c",
        "colab": {
          "base_uri": "https://localhost:8080/",
          "height": 35
        }
      },
      "source": [
        "np.empty(5 , dtype = 'u4')"
      ],
      "execution_count": 739,
      "outputs": [
        {
          "output_type": "execute_result",
          "data": {
            "text/plain": [
              "array([16843009, 16843009, 16843009, 16843009, 16843009], dtype=uint32)"
            ]
          },
          "metadata": {
            "tags": []
          },
          "execution_count": 739
        }
      ]
    },
    {
      "cell_type": "code",
      "metadata": {
        "id": "gZXSW2qFkEbP",
        "colab_type": "code",
        "colab": {}
      },
      "source": [
        "arr = np.array([[1., 2., 3.], [4., 5., 6.]])"
      ],
      "execution_count": 0,
      "outputs": []
    },
    {
      "cell_type": "code",
      "metadata": {
        "id": "xptPEkvjkEZn",
        "colab_type": "code",
        "outputId": "0ac7b954-f2df-46d2-a254-495b12eb6878",
        "colab": {
          "base_uri": "https://localhost:8080/",
          "height": 54
        }
      },
      "source": [
        "arr * arr"
      ],
      "execution_count": 741,
      "outputs": [
        {
          "output_type": "execute_result",
          "data": {
            "text/plain": [
              "array([[ 1.,  4.,  9.],\n",
              "       [16., 25., 36.]])"
            ]
          },
          "metadata": {
            "tags": []
          },
          "execution_count": 741
        }
      ]
    },
    {
      "cell_type": "code",
      "metadata": {
        "id": "byKVMskEkESC",
        "colab_type": "code",
        "outputId": "d3cd3fcc-c6b1-4a4b-8bd0-0ee4c7566990",
        "colab": {
          "base_uri": "https://localhost:8080/",
          "height": 54
        }
      },
      "source": [
        "arr ** arr"
      ],
      "execution_count": 742,
      "outputs": [
        {
          "output_type": "execute_result",
          "data": {
            "text/plain": [
              "array([[1.0000e+00, 4.0000e+00, 2.7000e+01],\n",
              "       [2.5600e+02, 3.1250e+03, 4.6656e+04]])"
            ]
          },
          "metadata": {
            "tags": []
          },
          "execution_count": 742
        }
      ]
    },
    {
      "cell_type": "code",
      "metadata": {
        "id": "6DggSM9ZkEQz",
        "colab_type": "code",
        "outputId": "66be46d7-3688-43e0-a3b4-84c8076151b7",
        "colab": {
          "base_uri": "https://localhost:8080/",
          "height": 54
        }
      },
      "source": [
        "arr != arr / 4"
      ],
      "execution_count": 743,
      "outputs": [
        {
          "output_type": "execute_result",
          "data": {
            "text/plain": [
              "array([[ True,  True,  True],\n",
              "       [ True,  True,  True]])"
            ]
          },
          "metadata": {
            "tags": []
          },
          "execution_count": 743
        }
      ]
    },
    {
      "cell_type": "code",
      "metadata": {
        "id": "aToKNdlIkENz",
        "colab_type": "code",
        "outputId": "6304fb7c-42b9-4702-8216-d894390b7293",
        "colab": {
          "base_uri": "https://localhost:8080/",
          "height": 35
        }
      },
      "source": [
        "np.arange(11)[5:8]"
      ],
      "execution_count": 744,
      "outputs": [
        {
          "output_type": "execute_result",
          "data": {
            "text/plain": [
              "array([5, 6, 7])"
            ]
          },
          "metadata": {
            "tags": []
          },
          "execution_count": 744
        }
      ]
    },
    {
      "cell_type": "code",
      "metadata": {
        "id": "FVk2GVuskELv",
        "colab_type": "code",
        "colab": {}
      },
      "source": [
        "a = np.arange(11)"
      ],
      "execution_count": 0,
      "outputs": []
    },
    {
      "cell_type": "code",
      "metadata": {
        "id": "UFe-OLTkkEFZ",
        "colab_type": "code",
        "outputId": "5bec21d0-8357-40e5-d1e1-982bf0ae2bf6",
        "colab": {
          "base_uri": "https://localhost:8080/",
          "height": 35
        }
      },
      "source": [
        "a[5:8]"
      ],
      "execution_count": 746,
      "outputs": [
        {
          "output_type": "execute_result",
          "data": {
            "text/plain": [
              "array([5, 6, 7])"
            ]
          },
          "metadata": {
            "tags": []
          },
          "execution_count": 746
        }
      ]
    },
    {
      "cell_type": "code",
      "metadata": {
        "id": "aPkvD213kEDZ",
        "colab_type": "code",
        "colab": {}
      },
      "source": [
        "a[5:8] = 11"
      ],
      "execution_count": 0,
      "outputs": []
    },
    {
      "cell_type": "code",
      "metadata": {
        "id": "ckNVeoJBkECY",
        "colab_type": "code",
        "outputId": "690dd7b6-3223-41fb-8d63-3f9972c5150f",
        "colab": {
          "base_uri": "https://localhost:8080/",
          "height": 35
        }
      },
      "source": [
        "a"
      ],
      "execution_count": 748,
      "outputs": [
        {
          "output_type": "execute_result",
          "data": {
            "text/plain": [
              "array([ 0,  1,  2,  3,  4, 11, 11, 11,  8,  9, 10])"
            ]
          },
          "metadata": {
            "tags": []
          },
          "execution_count": 748
        }
      ]
    },
    {
      "cell_type": "code",
      "metadata": {
        "id": "ZrobJQ_IkEBF",
        "colab_type": "code",
        "colab": {}
      },
      "source": [
        "arr_slice = a[5:8]"
      ],
      "execution_count": 0,
      "outputs": []
    },
    {
      "cell_type": "code",
      "metadata": {
        "id": "4oV74Ok59t4C",
        "colab_type": "code",
        "outputId": "1745e285-42e9-4927-d893-0cc889948722",
        "colab": {
          "base_uri": "https://localhost:8080/",
          "height": 35
        }
      },
      "source": [
        "arr_slice"
      ],
      "execution_count": 750,
      "outputs": [
        {
          "output_type": "execute_result",
          "data": {
            "text/plain": [
              "array([11, 11, 11])"
            ]
          },
          "metadata": {
            "tags": []
          },
          "execution_count": 750
        }
      ]
    },
    {
      "cell_type": "code",
      "metadata": {
        "id": "r01L0-Mn9t1b",
        "colab_type": "code",
        "colab": {}
      },
      "source": [
        "arr_slice[1] = 33"
      ],
      "execution_count": 0,
      "outputs": []
    },
    {
      "cell_type": "code",
      "metadata": {
        "id": "pbLtLcs59tzg",
        "colab_type": "code",
        "outputId": "85ae1000-2e75-478e-a349-2d10e4e5c4e2",
        "colab": {
          "base_uri": "https://localhost:8080/",
          "height": 35
        }
      },
      "source": [
        "a"
      ],
      "execution_count": 752,
      "outputs": [
        {
          "output_type": "execute_result",
          "data": {
            "text/plain": [
              "array([ 0,  1,  2,  3,  4, 11, 33, 11,  8,  9, 10])"
            ]
          },
          "metadata": {
            "tags": []
          },
          "execution_count": 752
        }
      ]
    },
    {
      "cell_type": "code",
      "metadata": {
        "id": "ZNS-TJf79tu5",
        "colab_type": "code",
        "outputId": "1fec34ac-f8ab-46a9-cfdb-284d77023037",
        "colab": {
          "base_uri": "https://localhost:8080/",
          "height": 35
        }
      },
      "source": [
        "arr2d = np.array([[1, 2, 3], [4, 5, 6], [7, 8, 9]])\n",
        "arr2d[2]"
      ],
      "execution_count": 753,
      "outputs": [
        {
          "output_type": "execute_result",
          "data": {
            "text/plain": [
              "array([7, 8, 9])"
            ]
          },
          "metadata": {
            "tags": []
          },
          "execution_count": 753
        }
      ]
    },
    {
      "cell_type": "code",
      "metadata": {
        "id": "MobJxTSL9tp5",
        "colab_type": "code",
        "outputId": "932b76a6-8c2a-413d-ae0f-2c1cfcf361e2",
        "colab": {
          "base_uri": "https://localhost:8080/",
          "height": 35
        }
      },
      "source": [
        "arr2d[0][2]"
      ],
      "execution_count": 754,
      "outputs": [
        {
          "output_type": "execute_result",
          "data": {
            "text/plain": [
              "3"
            ]
          },
          "metadata": {
            "tags": []
          },
          "execution_count": 754
        }
      ]
    },
    {
      "cell_type": "code",
      "metadata": {
        "id": "O4qcLdPP9tnw",
        "colab_type": "code",
        "colab": {}
      },
      "source": [
        "arr_3d = np.array([[[1,2,3] , [4,5,6]] , [[65,64,87] , [98,7643,34]]])"
      ],
      "execution_count": 0,
      "outputs": []
    },
    {
      "cell_type": "code",
      "metadata": {
        "id": "2EHN-UFz9tlD",
        "colab_type": "code",
        "outputId": "6195b89d-42f7-46f3-a68b-dd2cd2db977d",
        "colab": {
          "base_uri": "https://localhost:8080/",
          "height": 35
        }
      },
      "source": [
        "arr_3d[0,1]"
      ],
      "execution_count": 756,
      "outputs": [
        {
          "output_type": "execute_result",
          "data": {
            "text/plain": [
              "array([4, 5, 6])"
            ]
          },
          "metadata": {
            "tags": []
          },
          "execution_count": 756
        }
      ]
    },
    {
      "cell_type": "code",
      "metadata": {
        "id": "lIXsWN4h9tio",
        "colab_type": "code",
        "outputId": "4c45300e-2e15-4cd4-e98d-86bebcc43d9d",
        "colab": {
          "base_uri": "https://localhost:8080/",
          "height": 35
        }
      },
      "source": [
        "arr2d[1]"
      ],
      "execution_count": 757,
      "outputs": [
        {
          "output_type": "execute_result",
          "data": {
            "text/plain": [
              "array([4, 5, 6])"
            ]
          },
          "metadata": {
            "tags": []
          },
          "execution_count": 757
        }
      ]
    },
    {
      "cell_type": "code",
      "metadata": {
        "id": "s6oFOkf99tgC",
        "colab_type": "code",
        "outputId": "a2f9f182-f05b-444d-89d9-b97452d7fb4c",
        "colab": {
          "base_uri": "https://localhost:8080/",
          "height": 35
        }
      },
      "source": [
        "arr2d[:1 , :2]"
      ],
      "execution_count": 758,
      "outputs": [
        {
          "output_type": "execute_result",
          "data": {
            "text/plain": [
              "array([[1, 2]])"
            ]
          },
          "metadata": {
            "tags": []
          },
          "execution_count": 758
        }
      ]
    },
    {
      "cell_type": "code",
      "metadata": {
        "id": "sqT5QU_c9teB",
        "colab_type": "code",
        "colab": {}
      },
      "source": [
        "a = np.random.randn(50).reshape(5,10) "
      ],
      "execution_count": 0,
      "outputs": []
    },
    {
      "cell_type": "code",
      "metadata": {
        "id": "ldYRqCe39tZw",
        "colab_type": "code",
        "outputId": "a81459dc-024e-4f8b-df96-0db2416edba7",
        "colab": {
          "base_uri": "https://localhost:8080/",
          "height": 384
        }
      },
      "source": [
        "a"
      ],
      "execution_count": 760,
      "outputs": [
        {
          "output_type": "execute_result",
          "data": {
            "text/plain": [
              "array([[ 6.17215087e-01,  7.78853982e-01,  8.50562664e-01,\n",
              "         2.39042333e-01,  8.79028956e-01, -1.37044528e+00,\n",
              "        -5.43992182e-01, -7.90870524e-01,  2.04139749e-01,\n",
              "        -5.36603722e-01],\n",
              "       [ 8.52404411e-01,  1.11579422e+00,  8.03535312e-01,\n",
              "         1.98569668e+00, -7.51093364e-01, -7.72483055e-01,\n",
              "        -3.99218120e-02, -2.16289264e-01, -8.75615272e-01,\n",
              "         7.01394252e-01],\n",
              "       [ 3.82982378e-02, -1.14016539e+00,  5.49268653e-02,\n",
              "         6.85182776e-01, -1.35867494e+00, -3.81109498e-01,\n",
              "        -1.72434022e-01,  9.40258697e-01, -5.14912188e-01,\n",
              "        -1.27939221e-04],\n",
              "       [ 5.87858778e-01, -2.03151322e-02, -4.54061817e-02,\n",
              "        -1.81838388e+00, -1.29144117e+00,  8.79993557e-01,\n",
              "        -2.83380752e-01,  8.86099086e-01,  1.86637431e+00,\n",
              "        -4.78857956e-02],\n",
              "       [-1.29464072e+00, -1.82084631e+00, -1.45677331e-01,\n",
              "         8.83926709e-01, -4.45935817e-01,  1.53402323e+00,\n",
              "         2.13615310e-01,  7.22104478e-01, -1.23241027e+00,\n",
              "        -1.28418964e+00]])"
            ]
          },
          "metadata": {
            "tags": []
          },
          "execution_count": 760
        }
      ]
    },
    {
      "cell_type": "code",
      "metadata": {
        "id": "quiiXH6N9tT1",
        "colab_type": "code",
        "outputId": "fcda659e-2ce0-49e0-ac67-9e1f059fda2e",
        "colab": {
          "base_uri": "https://localhost:8080/",
          "height": 201
        }
      },
      "source": [
        "a<0"
      ],
      "execution_count": 761,
      "outputs": [
        {
          "output_type": "execute_result",
          "data": {
            "text/plain": [
              "array([[False, False, False, False, False,  True,  True,  True, False,\n",
              "         True],\n",
              "       [False, False, False, False,  True,  True,  True,  True,  True,\n",
              "        False],\n",
              "       [False,  True, False, False,  True,  True,  True, False,  True,\n",
              "         True],\n",
              "       [False,  True,  True,  True,  True, False,  True, False, False,\n",
              "         True],\n",
              "       [ True,  True,  True, False,  True, False, False, False,  True,\n",
              "         True]])"
            ]
          },
          "metadata": {
            "tags": []
          },
          "execution_count": 761
        }
      ]
    },
    {
      "cell_type": "code",
      "metadata": {
        "id": "k0Why4vP9tR5",
        "colab_type": "code",
        "colab": {}
      },
      "source": [
        "a[a<0] = 0"
      ],
      "execution_count": 0,
      "outputs": []
    },
    {
      "cell_type": "code",
      "metadata": {
        "id": "FIVStzhA9tP5",
        "colab_type": "code",
        "outputId": "65f91772-13af-4b34-9ef3-7bd29234b019",
        "colab": {
          "base_uri": "https://localhost:8080/",
          "height": 201
        }
      },
      "source": [
        "a"
      ],
      "execution_count": 763,
      "outputs": [
        {
          "output_type": "execute_result",
          "data": {
            "text/plain": [
              "array([[0.61721509, 0.77885398, 0.85056266, 0.23904233, 0.87902896,\n",
              "        0.        , 0.        , 0.        , 0.20413975, 0.        ],\n",
              "       [0.85240441, 1.11579422, 0.80353531, 1.98569668, 0.        ,\n",
              "        0.        , 0.        , 0.        , 0.        , 0.70139425],\n",
              "       [0.03829824, 0.        , 0.05492687, 0.68518278, 0.        ,\n",
              "        0.        , 0.        , 0.9402587 , 0.        , 0.        ],\n",
              "       [0.58785878, 0.        , 0.        , 0.        , 0.        ,\n",
              "        0.87999356, 0.        , 0.88609909, 1.86637431, 0.        ],\n",
              "       [0.        , 0.        , 0.        , 0.88392671, 0.        ,\n",
              "        1.53402323, 0.21361531, 0.72210448, 0.        , 0.        ]])"
            ]
          },
          "metadata": {
            "tags": []
          },
          "execution_count": 763
        }
      ]
    },
    {
      "cell_type": "code",
      "metadata": {
        "id": "DGQb6a2K9tOM",
        "colab_type": "code",
        "colab": {}
      },
      "source": [
        "a = 2"
      ],
      "execution_count": 0,
      "outputs": []
    },
    {
      "cell_type": "code",
      "metadata": {
        "id": "IEZUwWC_9tJy",
        "colab_type": "code",
        "colab": {}
      },
      "source": [
        "cond = a == 2"
      ],
      "execution_count": 0,
      "outputs": []
    },
    {
      "cell_type": "code",
      "metadata": {
        "id": "8tnOKIIn9tHr",
        "colab_type": "code",
        "outputId": "3d6a2463-bc06-47b9-ad04-9bf72e66d8d8",
        "colab": {
          "base_uri": "https://localhost:8080/",
          "height": 35
        }
      },
      "source": [
        "cond"
      ],
      "execution_count": 766,
      "outputs": [
        {
          "output_type": "execute_result",
          "data": {
            "text/plain": [
              "True"
            ]
          },
          "metadata": {
            "tags": []
          },
          "execution_count": 766
        }
      ]
    },
    {
      "cell_type": "code",
      "metadata": {
        "id": "QHiHoMbt9s8C",
        "colab_type": "code",
        "colab": {
          "base_uri": "https://localhost:8080/",
          "height": 35
        },
        "outputId": "45c14406-590e-4b29-c5ed-b668ebfb462e"
      },
      "source": [
        "np.array(['Hi' , 2 , 3.3 , False]).dtype"
      ],
      "execution_count": 767,
      "outputs": [
        {
          "output_type": "execute_result",
          "data": {
            "text/plain": [
              "dtype('<U5')"
            ]
          },
          "metadata": {
            "tags": []
          },
          "execution_count": 767
        }
      ]
    },
    {
      "cell_type": "code",
      "metadata": {
        "id": "R93-4R0a9s53",
        "colab_type": "code",
        "colab": {}
      },
      "source": [
        "a = np.array([[1,2,3] , [4,5,6]])"
      ],
      "execution_count": 0,
      "outputs": []
    },
    {
      "cell_type": "code",
      "metadata": {
        "id": "n-9_hrR6Mb3X",
        "colab_type": "code",
        "colab": {
          "base_uri": "https://localhost:8080/",
          "height": 54
        },
        "outputId": "4afdc245-2059-4527-8bcc-d9adad9d6278"
      },
      "source": [
        "a"
      ],
      "execution_count": 769,
      "outputs": [
        {
          "output_type": "execute_result",
          "data": {
            "text/plain": [
              "array([[1, 2, 3],\n",
              "       [4, 5, 6]])"
            ]
          },
          "metadata": {
            "tags": []
          },
          "execution_count": 769
        }
      ]
    },
    {
      "cell_type": "code",
      "metadata": {
        "id": "Xz_2Ist79s3r",
        "colab_type": "code",
        "colab": {
          "base_uri": "https://localhost:8080/",
          "height": 35
        },
        "outputId": "717ffe8b-af23-4dfe-82ee-9205047706de"
      },
      "source": [
        "np.ravel(a)"
      ],
      "execution_count": 770,
      "outputs": [
        {
          "output_type": "execute_result",
          "data": {
            "text/plain": [
              "array([1, 2, 3, 4, 5, 6])"
            ]
          },
          "metadata": {
            "tags": []
          },
          "execution_count": 770
        }
      ]
    },
    {
      "cell_type": "code",
      "metadata": {
        "id": "tcgEkxNPWmZu",
        "colab_type": "code",
        "colab": {}
      },
      "source": [
        "import pandas as pd"
      ],
      "execution_count": 0,
      "outputs": []
    },
    {
      "cell_type": "code",
      "metadata": {
        "id": "dLlaYKoN9sya",
        "colab_type": "code",
        "colab": {}
      },
      "source": [
        "df = pd.read_csv('http://bit.ly/imdbratings')"
      ],
      "execution_count": 0,
      "outputs": []
    },
    {
      "cell_type": "code",
      "metadata": {
        "id": "VHp89uLX9sww",
        "colab_type": "code",
        "colab": {
          "base_uri": "https://localhost:8080/",
          "height": 165
        },
        "outputId": "e481ffa2-08a8-4dee-f488-ef18060ce509"
      },
      "source": [
        "df.head().style.set_caption('IMDB ratings')"
      ],
      "execution_count": 773,
      "outputs": [
        {
          "output_type": "execute_result",
          "data": {
            "text/html": [
              "<style  type=\"text/css\" >\n",
              "</style><table id=\"T_e0663eaa_da32_11e9_910c_0242ac1c0002\" ><caption>IMDB ratings</caption><thead>    <tr>        <th class=\"blank level0\" ></th>        <th class=\"col_heading level0 col0\" >star_rating</th>        <th class=\"col_heading level0 col1\" >title</th>        <th class=\"col_heading level0 col2\" >content_rating</th>        <th class=\"col_heading level0 col3\" >genre</th>        <th class=\"col_heading level0 col4\" >duration</th>        <th class=\"col_heading level0 col5\" >actors_list</th>    </tr></thead><tbody>\n",
              "                <tr>\n",
              "                        <th id=\"T_e0663eaa_da32_11e9_910c_0242ac1c0002level0_row0\" class=\"row_heading level0 row0\" >0</th>\n",
              "                        <td id=\"T_e0663eaa_da32_11e9_910c_0242ac1c0002row0_col0\" class=\"data row0 col0\" >9.3</td>\n",
              "                        <td id=\"T_e0663eaa_da32_11e9_910c_0242ac1c0002row0_col1\" class=\"data row0 col1\" >The Shawshank Redemption</td>\n",
              "                        <td id=\"T_e0663eaa_da32_11e9_910c_0242ac1c0002row0_col2\" class=\"data row0 col2\" >R</td>\n",
              "                        <td id=\"T_e0663eaa_da32_11e9_910c_0242ac1c0002row0_col3\" class=\"data row0 col3\" >Crime</td>\n",
              "                        <td id=\"T_e0663eaa_da32_11e9_910c_0242ac1c0002row0_col4\" class=\"data row0 col4\" >142</td>\n",
              "                        <td id=\"T_e0663eaa_da32_11e9_910c_0242ac1c0002row0_col5\" class=\"data row0 col5\" >[u'Tim Robbins', u'Morgan Freeman', u'Bob Gunton']</td>\n",
              "            </tr>\n",
              "            <tr>\n",
              "                        <th id=\"T_e0663eaa_da32_11e9_910c_0242ac1c0002level0_row1\" class=\"row_heading level0 row1\" >1</th>\n",
              "                        <td id=\"T_e0663eaa_da32_11e9_910c_0242ac1c0002row1_col0\" class=\"data row1 col0\" >9.2</td>\n",
              "                        <td id=\"T_e0663eaa_da32_11e9_910c_0242ac1c0002row1_col1\" class=\"data row1 col1\" >The Godfather</td>\n",
              "                        <td id=\"T_e0663eaa_da32_11e9_910c_0242ac1c0002row1_col2\" class=\"data row1 col2\" >R</td>\n",
              "                        <td id=\"T_e0663eaa_da32_11e9_910c_0242ac1c0002row1_col3\" class=\"data row1 col3\" >Crime</td>\n",
              "                        <td id=\"T_e0663eaa_da32_11e9_910c_0242ac1c0002row1_col4\" class=\"data row1 col4\" >175</td>\n",
              "                        <td id=\"T_e0663eaa_da32_11e9_910c_0242ac1c0002row1_col5\" class=\"data row1 col5\" >[u'Marlon Brando', u'Al Pacino', u'James Caan']</td>\n",
              "            </tr>\n",
              "            <tr>\n",
              "                        <th id=\"T_e0663eaa_da32_11e9_910c_0242ac1c0002level0_row2\" class=\"row_heading level0 row2\" >2</th>\n",
              "                        <td id=\"T_e0663eaa_da32_11e9_910c_0242ac1c0002row2_col0\" class=\"data row2 col0\" >9.1</td>\n",
              "                        <td id=\"T_e0663eaa_da32_11e9_910c_0242ac1c0002row2_col1\" class=\"data row2 col1\" >The Godfather: Part II</td>\n",
              "                        <td id=\"T_e0663eaa_da32_11e9_910c_0242ac1c0002row2_col2\" class=\"data row2 col2\" >R</td>\n",
              "                        <td id=\"T_e0663eaa_da32_11e9_910c_0242ac1c0002row2_col3\" class=\"data row2 col3\" >Crime</td>\n",
              "                        <td id=\"T_e0663eaa_da32_11e9_910c_0242ac1c0002row2_col4\" class=\"data row2 col4\" >200</td>\n",
              "                        <td id=\"T_e0663eaa_da32_11e9_910c_0242ac1c0002row2_col5\" class=\"data row2 col5\" >[u'Al Pacino', u'Robert De Niro', u'Robert Duvall']</td>\n",
              "            </tr>\n",
              "            <tr>\n",
              "                        <th id=\"T_e0663eaa_da32_11e9_910c_0242ac1c0002level0_row3\" class=\"row_heading level0 row3\" >3</th>\n",
              "                        <td id=\"T_e0663eaa_da32_11e9_910c_0242ac1c0002row3_col0\" class=\"data row3 col0\" >9</td>\n",
              "                        <td id=\"T_e0663eaa_da32_11e9_910c_0242ac1c0002row3_col1\" class=\"data row3 col1\" >The Dark Knight</td>\n",
              "                        <td id=\"T_e0663eaa_da32_11e9_910c_0242ac1c0002row3_col2\" class=\"data row3 col2\" >PG-13</td>\n",
              "                        <td id=\"T_e0663eaa_da32_11e9_910c_0242ac1c0002row3_col3\" class=\"data row3 col3\" >Action</td>\n",
              "                        <td id=\"T_e0663eaa_da32_11e9_910c_0242ac1c0002row3_col4\" class=\"data row3 col4\" >152</td>\n",
              "                        <td id=\"T_e0663eaa_da32_11e9_910c_0242ac1c0002row3_col5\" class=\"data row3 col5\" >[u'Christian Bale', u'Heath Ledger', u'Aaron Eckhart']</td>\n",
              "            </tr>\n",
              "            <tr>\n",
              "                        <th id=\"T_e0663eaa_da32_11e9_910c_0242ac1c0002level0_row4\" class=\"row_heading level0 row4\" >4</th>\n",
              "                        <td id=\"T_e0663eaa_da32_11e9_910c_0242ac1c0002row4_col0\" class=\"data row4 col0\" >8.9</td>\n",
              "                        <td id=\"T_e0663eaa_da32_11e9_910c_0242ac1c0002row4_col1\" class=\"data row4 col1\" >Pulp Fiction</td>\n",
              "                        <td id=\"T_e0663eaa_da32_11e9_910c_0242ac1c0002row4_col2\" class=\"data row4 col2\" >R</td>\n",
              "                        <td id=\"T_e0663eaa_da32_11e9_910c_0242ac1c0002row4_col3\" class=\"data row4 col3\" >Crime</td>\n",
              "                        <td id=\"T_e0663eaa_da32_11e9_910c_0242ac1c0002row4_col4\" class=\"data row4 col4\" >154</td>\n",
              "                        <td id=\"T_e0663eaa_da32_11e9_910c_0242ac1c0002row4_col5\" class=\"data row4 col5\" >[u'John Travolta', u'Uma Thurman', u'Samuel L. Jackson']</td>\n",
              "            </tr>\n",
              "    </tbody></table>"
            ],
            "text/plain": [
              "<pandas.io.formats.style.Styler at 0x7f0c5bde28d0>"
            ]
          },
          "metadata": {
            "tags": []
          },
          "execution_count": 773
        }
      ]
    },
    {
      "cell_type": "code",
      "metadata": {
        "id": "1OxBHOvf9su7",
        "colab_type": "code",
        "colab": {}
      },
      "source": [
        "a = np.array([[[1,2,3] , [5,6,7]]])"
      ],
      "execution_count": 0,
      "outputs": []
    },
    {
      "cell_type": "code",
      "metadata": {
        "id": "RJp4Wy--9stZ",
        "colab_type": "code",
        "colab": {
          "base_uri": "https://localhost:8080/",
          "height": 72
        },
        "outputId": "c72a8402-f8a6-4feb-b558-257f0b409f27"
      },
      "source": [
        "a.swapaxes(1,2)"
      ],
      "execution_count": 775,
      "outputs": [
        {
          "output_type": "execute_result",
          "data": {
            "text/plain": [
              "array([[[1, 5],\n",
              "        [2, 6],\n",
              "        [3, 7]]])"
            ]
          },
          "metadata": {
            "tags": []
          },
          "execution_count": 775
        }
      ]
    },
    {
      "cell_type": "code",
      "metadata": {
        "id": "NEsmfzQP9sqF",
        "colab_type": "code",
        "colab": {}
      },
      "source": [
        "a = np.arange(10)"
      ],
      "execution_count": 0,
      "outputs": []
    },
    {
      "cell_type": "code",
      "metadata": {
        "id": "1rN8S04s9sha",
        "colab_type": "code",
        "colab": {
          "base_uri": "https://localhost:8080/",
          "height": 54
        },
        "outputId": "edd3b325-f78f-4101-a262-43595dbe44b2"
      },
      "source": [
        "np.sqrt(a)"
      ],
      "execution_count": 777,
      "outputs": [
        {
          "output_type": "execute_result",
          "data": {
            "text/plain": [
              "array([0.        , 1.        , 1.41421356, 1.73205081, 2.        ,\n",
              "       2.23606798, 2.44948974, 2.64575131, 2.82842712, 3.        ])"
            ]
          },
          "metadata": {
            "tags": []
          },
          "execution_count": 777
        }
      ]
    },
    {
      "cell_type": "code",
      "metadata": {
        "id": "FTsHfRly9sdP",
        "colab_type": "code",
        "colab": {
          "base_uri": "https://localhost:8080/",
          "height": 72
        },
        "outputId": "c00f18ac-0966-48ba-b239-4d3a272843d1"
      },
      "source": [
        "np.exp(a)"
      ],
      "execution_count": 778,
      "outputs": [
        {
          "output_type": "execute_result",
          "data": {
            "text/plain": [
              "array([1.00000000e+00, 2.71828183e+00, 7.38905610e+00, 2.00855369e+01,\n",
              "       5.45981500e+01, 1.48413159e+02, 4.03428793e+02, 1.09663316e+03,\n",
              "       2.98095799e+03, 8.10308393e+03])"
            ]
          },
          "metadata": {
            "tags": []
          },
          "execution_count": 778
        }
      ]
    },
    {
      "cell_type": "code",
      "metadata": {
        "id": "VEJW1VQp9sbP",
        "colab_type": "code",
        "colab": {}
      },
      "source": [
        "x = np.random.randn(8)\n",
        "y = np.random.randn(8)"
      ],
      "execution_count": 0,
      "outputs": []
    },
    {
      "cell_type": "code",
      "metadata": {
        "id": "SfaiPFuv9sZf",
        "colab_type": "code",
        "colab": {
          "base_uri": "https://localhost:8080/",
          "height": 54
        },
        "outputId": "46e3086b-391b-4ade-f146-3737dd53315a"
      },
      "source": [
        "x"
      ],
      "execution_count": 780,
      "outputs": [
        {
          "output_type": "execute_result",
          "data": {
            "text/plain": [
              "array([-0.97488001, -0.99663461,  1.4247115 ,  1.10317219,  1.95236275,\n",
              "       -0.59911127,  0.60774386, -0.50569599])"
            ]
          },
          "metadata": {
            "tags": []
          },
          "execution_count": 780
        }
      ]
    },
    {
      "cell_type": "code",
      "metadata": {
        "id": "CCoobECp9sWs",
        "colab_type": "code",
        "colab": {
          "base_uri": "https://localhost:8080/",
          "height": 54
        },
        "outputId": "1c39f94c-b22e-4fae-9ddb-2fff2793745a"
      },
      "source": [
        "y"
      ],
      "execution_count": 781,
      "outputs": [
        {
          "output_type": "execute_result",
          "data": {
            "text/plain": [
              "array([ 0.01843267,  1.17749583,  0.01066034,  0.01901771, -0.03294851,\n",
              "        0.36592899,  0.83050809, -0.60197802])"
            ]
          },
          "metadata": {
            "tags": []
          },
          "execution_count": 781
        }
      ]
    },
    {
      "cell_type": "code",
      "metadata": {
        "id": "8lXFI47Y9sQA",
        "colab_type": "code",
        "colab": {
          "base_uri": "https://localhost:8080/",
          "height": 54
        },
        "outputId": "d911ae48-a2ae-4fbc-851f-1af61a4cffc6"
      },
      "source": [
        "np.maximum(x , y)"
      ],
      "execution_count": 782,
      "outputs": [
        {
          "output_type": "execute_result",
          "data": {
            "text/plain": [
              "array([ 0.01843267,  1.17749583,  1.4247115 ,  1.10317219,  1.95236275,\n",
              "        0.36592899,  0.83050809, -0.50569599])"
            ]
          },
          "metadata": {
            "tags": []
          },
          "execution_count": 782
        }
      ]
    },
    {
      "cell_type": "code",
      "metadata": {
        "id": "bJCytmD09sMt",
        "colab_type": "code",
        "colab": {}
      },
      "source": [
        "reminder , wholepart = np.modf(np.random.randn(7) * 3)"
      ],
      "execution_count": 0,
      "outputs": []
    },
    {
      "cell_type": "code",
      "metadata": {
        "id": "WKDCYGYx9sK3",
        "colab_type": "code",
        "colab": {
          "base_uri": "https://localhost:8080/",
          "height": 54
        },
        "outputId": "c9fa1349-5877-4aad-d1b5-9c8acc571d0d"
      },
      "source": [
        "reminder"
      ],
      "execution_count": 784,
      "outputs": [
        {
          "output_type": "execute_result",
          "data": {
            "text/plain": [
              "array([-0.57412239,  0.0466727 , -0.50174555, -0.41847159, -0.37528834,\n",
              "       -0.90257934,  0.3625437 ])"
            ]
          },
          "metadata": {
            "tags": []
          },
          "execution_count": 784
        }
      ]
    },
    {
      "cell_type": "code",
      "metadata": {
        "id": "pzl0-eGO9sIq",
        "colab_type": "code",
        "colab": {
          "base_uri": "https://localhost:8080/",
          "height": 35
        },
        "outputId": "b32dadd1-df10-4251-c2a8-6026d6cf523f"
      },
      "source": [
        "wholepart"
      ],
      "execution_count": 785,
      "outputs": [
        {
          "output_type": "execute_result",
          "data": {
            "text/plain": [
              "array([-1.,  1., -4., -2., -0., -3.,  7.])"
            ]
          },
          "metadata": {
            "tags": []
          },
          "execution_count": 785
        }
      ]
    },
    {
      "cell_type": "code",
      "metadata": {
        "id": "rvJlF4ixob5I",
        "colab_type": "code",
        "colab": {
          "base_uri": "https://localhost:8080/",
          "height": 35
        },
        "outputId": "1469c722-d8f9-4702-8344-bede8ef8e513"
      },
      "source": [
        "a"
      ],
      "execution_count": 786,
      "outputs": [
        {
          "output_type": "execute_result",
          "data": {
            "text/plain": [
              "array([0, 1, 2, 3, 4, 5, 6, 7, 8, 9])"
            ]
          },
          "metadata": {
            "tags": []
          },
          "execution_count": 786
        }
      ]
    },
    {
      "cell_type": "code",
      "metadata": {
        "id": "W9Pp7meAob2r",
        "colab_type": "code",
        "colab": {
          "base_uri": "https://localhost:8080/",
          "height": 54
        },
        "outputId": "f40136d5-e641-4bda-d15d-83bb7d078e55"
      },
      "source": [
        "np.sqrt(a)"
      ],
      "execution_count": 787,
      "outputs": [
        {
          "output_type": "execute_result",
          "data": {
            "text/plain": [
              "array([0.        , 1.        , 1.41421356, 1.73205081, 2.        ,\n",
              "       2.23606798, 2.44948974, 2.64575131, 2.82842712, 3.        ])"
            ]
          },
          "metadata": {
            "tags": []
          },
          "execution_count": 787
        }
      ]
    },
    {
      "cell_type": "code",
      "metadata": {
        "id": "tCBoySrZpFer",
        "colab_type": "code",
        "colab": {}
      },
      "source": [
        "arr = np.linspace(5,8)"
      ],
      "execution_count": 0,
      "outputs": []
    },
    {
      "cell_type": "code",
      "metadata": {
        "id": "AYc1s_yUpOdr",
        "colab_type": "code",
        "colab": {
          "base_uri": "https://localhost:8080/",
          "height": 201
        },
        "outputId": "1e19f5b8-07a1-4032-c067-73d5fad48873"
      },
      "source": [
        "arr"
      ],
      "execution_count": 789,
      "outputs": [
        {
          "output_type": "execute_result",
          "data": {
            "text/plain": [
              "array([5.        , 5.06122449, 5.12244898, 5.18367347, 5.24489796,\n",
              "       5.30612245, 5.36734694, 5.42857143, 5.48979592, 5.55102041,\n",
              "       5.6122449 , 5.67346939, 5.73469388, 5.79591837, 5.85714286,\n",
              "       5.91836735, 5.97959184, 6.04081633, 6.10204082, 6.16326531,\n",
              "       6.2244898 , 6.28571429, 6.34693878, 6.40816327, 6.46938776,\n",
              "       6.53061224, 6.59183673, 6.65306122, 6.71428571, 6.7755102 ,\n",
              "       6.83673469, 6.89795918, 6.95918367, 7.02040816, 7.08163265,\n",
              "       7.14285714, 7.20408163, 7.26530612, 7.32653061, 7.3877551 ,\n",
              "       7.44897959, 7.51020408, 7.57142857, 7.63265306, 7.69387755,\n",
              "       7.75510204, 7.81632653, 7.87755102, 7.93877551, 8.        ])"
            ]
          },
          "metadata": {
            "tags": []
          },
          "execution_count": 789
        }
      ]
    },
    {
      "cell_type": "code",
      "metadata": {
        "id": "lccGLZhKob0l",
        "colab_type": "code",
        "colab": {
          "base_uri": "https://localhost:8080/",
          "height": 35
        },
        "outputId": "ccb529b7-18a3-4f01-b9dd-67a1c575beb0"
      },
      "source": [
        "np.abs([-58])"
      ],
      "execution_count": 790,
      "outputs": [
        {
          "output_type": "execute_result",
          "data": {
            "text/plain": [
              "array([58])"
            ]
          },
          "metadata": {
            "tags": []
          },
          "execution_count": 790
        }
      ]
    },
    {
      "cell_type": "code",
      "metadata": {
        "id": "jVGOqzuCobyg",
        "colab_type": "code",
        "colab": {
          "base_uri": "https://localhost:8080/",
          "height": 35
        },
        "outputId": "356accb5-e2f8-4b2f-c7c4-ae6591a6de11"
      },
      "source": [
        "np.fabs([-2.65])"
      ],
      "execution_count": 791,
      "outputs": [
        {
          "output_type": "execute_result",
          "data": {
            "text/plain": [
              "array([2.65])"
            ]
          },
          "metadata": {
            "tags": []
          },
          "execution_count": 791
        }
      ]
    },
    {
      "cell_type": "code",
      "metadata": {
        "id": "NV5Snsgeobwn",
        "colab_type": "code",
        "colab": {
          "base_uri": "https://localhost:8080/",
          "height": 35
        },
        "outputId": "4f8222f2-d441-4ded-b69f-ba57bef7f28a"
      },
      "source": [
        "np.sign(-54)"
      ],
      "execution_count": 792,
      "outputs": [
        {
          "output_type": "execute_result",
          "data": {
            "text/plain": [
              "-1"
            ]
          },
          "metadata": {
            "tags": []
          },
          "execution_count": 792
        }
      ]
    },
    {
      "cell_type": "code",
      "metadata": {
        "id": "IPy-7WUFobpV",
        "colab_type": "code",
        "colab": {
          "base_uri": "https://localhost:8080/",
          "height": 35
        },
        "outputId": "8cd3b177-7a73-425a-d7de-53889f24d1e7"
      },
      "source": [
        "np.sign(3)"
      ],
      "execution_count": 793,
      "outputs": [
        {
          "output_type": "execute_result",
          "data": {
            "text/plain": [
              "1"
            ]
          },
          "metadata": {
            "tags": []
          },
          "execution_count": 793
        }
      ]
    },
    {
      "cell_type": "code",
      "metadata": {
        "id": "2m46nz9Sobmo",
        "colab_type": "code",
        "colab": {
          "base_uri": "https://localhost:8080/",
          "height": 35
        },
        "outputId": "43b35463-117f-495e-ce91-1f726c60ce3d"
      },
      "source": [
        "np.ceil(8.4)"
      ],
      "execution_count": 794,
      "outputs": [
        {
          "output_type": "execute_result",
          "data": {
            "text/plain": [
              "9.0"
            ]
          },
          "metadata": {
            "tags": []
          },
          "execution_count": 794
        }
      ]
    },
    {
      "cell_type": "code",
      "metadata": {
        "id": "cQ8H2coyobhf",
        "colab_type": "code",
        "colab": {
          "base_uri": "https://localhost:8080/",
          "height": 35
        },
        "outputId": "095b889e-7b2c-4ff1-a420-8361498be7f1"
      },
      "source": [
        "np.floor(4.9)"
      ],
      "execution_count": 795,
      "outputs": [
        {
          "output_type": "execute_result",
          "data": {
            "text/plain": [
              "4.0"
            ]
          },
          "metadata": {
            "tags": []
          },
          "execution_count": 795
        }
      ]
    },
    {
      "cell_type": "code",
      "metadata": {
        "id": "ojWxCIpIobfU",
        "colab_type": "code",
        "colab": {
          "base_uri": "https://localhost:8080/",
          "height": 35
        },
        "outputId": "2d6bec18-cb20-4639-c5a2-f9f10f6d1514"
      },
      "source": [
        "np.round(5.5)"
      ],
      "execution_count": 796,
      "outputs": [
        {
          "output_type": "execute_result",
          "data": {
            "text/plain": [
              "6.0"
            ]
          },
          "metadata": {
            "tags": []
          },
          "execution_count": 796
        }
      ]
    },
    {
      "cell_type": "code",
      "metadata": {
        "id": "AhEplZAFobcc",
        "colab_type": "code",
        "colab": {
          "base_uri": "https://localhost:8080/",
          "height": 35
        },
        "outputId": "e2eee30f-b855-4e05-ce8b-9cc7bc22daed"
      },
      "source": [
        "np.rint(5.6)"
      ],
      "execution_count": 797,
      "outputs": [
        {
          "output_type": "execute_result",
          "data": {
            "text/plain": [
              "6.0"
            ]
          },
          "metadata": {
            "tags": []
          },
          "execution_count": 797
        }
      ]
    },
    {
      "cell_type": "code",
      "metadata": {
        "id": "GtlJ0adcobWl",
        "colab_type": "code",
        "colab": {}
      },
      "source": [
        "a = np.array([1 , np.nan , 4 , np.inf , -np.inf , 5 , 12635 , -2376])"
      ],
      "execution_count": 0,
      "outputs": []
    },
    {
      "cell_type": "code",
      "metadata": {
        "id": "aKYDoRGzobTR",
        "colab_type": "code",
        "colab": {
          "base_uri": "https://localhost:8080/",
          "height": 54
        },
        "outputId": "360a864c-d767-4e9a-e2cb-64eaf817c10f"
      },
      "source": [
        "a"
      ],
      "execution_count": 799,
      "outputs": [
        {
          "output_type": "execute_result",
          "data": {
            "text/plain": [
              "array([ 1.0000e+00,         nan,  4.0000e+00,         inf,        -inf,\n",
              "        5.0000e+00,  1.2635e+04, -2.3760e+03])"
            ]
          },
          "metadata": {
            "tags": []
          },
          "execution_count": 799
        }
      ]
    },
    {
      "cell_type": "code",
      "metadata": {
        "id": "VUvIFNSAobQ8",
        "colab_type": "code",
        "colab": {
          "base_uri": "https://localhost:8080/",
          "height": 35
        },
        "outputId": "fd551839-3d6f-4634-dba8-7f4a977b9f17"
      },
      "source": [
        "np.isfinite(a)"
      ],
      "execution_count": 800,
      "outputs": [
        {
          "output_type": "execute_result",
          "data": {
            "text/plain": [
              "array([ True, False,  True, False, False,  True,  True,  True])"
            ]
          },
          "metadata": {
            "tags": []
          },
          "execution_count": 800
        }
      ]
    },
    {
      "cell_type": "code",
      "metadata": {
        "id": "_nrsQkShobOy",
        "colab_type": "code",
        "colab": {
          "base_uri": "https://localhost:8080/",
          "height": 35
        },
        "outputId": "3db5950c-c94a-432d-dd06-de18c3522660"
      },
      "source": [
        "np.isinf(a)"
      ],
      "execution_count": 801,
      "outputs": [
        {
          "output_type": "execute_result",
          "data": {
            "text/plain": [
              "array([False, False, False,  True,  True, False, False, False])"
            ]
          },
          "metadata": {
            "tags": []
          },
          "execution_count": 801
        }
      ]
    },
    {
      "cell_type": "code",
      "metadata": {
        "id": "M2mhdUScobMG",
        "colab_type": "code",
        "colab": {
          "base_uri": "https://localhost:8080/",
          "height": 35
        },
        "outputId": "5673e0c4-ab62-46a8-b982-1fed2502be72"
      },
      "source": [
        "np.cos(3)"
      ],
      "execution_count": 802,
      "outputs": [
        {
          "output_type": "execute_result",
          "data": {
            "text/plain": [
              "-0.9899924966004454"
            ]
          },
          "metadata": {
            "tags": []
          },
          "execution_count": 802
        }
      ]
    },
    {
      "cell_type": "code",
      "metadata": {
        "id": "pZht_9JzobJs",
        "colab_type": "code",
        "colab": {
          "base_uri": "https://localhost:8080/",
          "height": 35
        },
        "outputId": "859c1770-bbf1-41ff-a5e9-f1c0e2abcfc0"
      },
      "source": [
        "np.cosh(3)"
      ],
      "execution_count": 803,
      "outputs": [
        {
          "output_type": "execute_result",
          "data": {
            "text/plain": [
              "10.067661995777765"
            ]
          },
          "metadata": {
            "tags": []
          },
          "execution_count": 803
        }
      ]
    },
    {
      "cell_type": "code",
      "metadata": {
        "id": "O4QlngUnobEt",
        "colab_type": "code",
        "colab": {
          "base_uri": "https://localhost:8080/",
          "height": 35
        },
        "outputId": "5ee61f70-5b85-47aa-ffde-07264ad87a86"
      },
      "source": [
        "np.logical_not(a)"
      ],
      "execution_count": 804,
      "outputs": [
        {
          "output_type": "execute_result",
          "data": {
            "text/plain": [
              "array([False, False, False, False, False, False, False, False])"
            ]
          },
          "metadata": {
            "tags": []
          },
          "execution_count": 804
        }
      ]
    },
    {
      "cell_type": "code",
      "metadata": {
        "id": "FoxWaVKOobCy",
        "colab_type": "code",
        "colab": {
          "base_uri": "https://localhost:8080/",
          "height": 72
        },
        "outputId": "ce6eaeba-d9e3-40e7-8e16-39d0b0077b4c"
      },
      "source": [
        "np.arccos(3)"
      ],
      "execution_count": 805,
      "outputs": [
        {
          "output_type": "stream",
          "text": [
            "/usr/local/lib/python3.6/dist-packages/ipykernel_launcher.py:1: RuntimeWarning: invalid value encountered in arccos\n",
            "  \"\"\"Entry point for launching an IPython kernel.\n"
          ],
          "name": "stderr"
        },
        {
          "output_type": "execute_result",
          "data": {
            "text/plain": [
              "nan"
            ]
          },
          "metadata": {
            "tags": []
          },
          "execution_count": 805
        }
      ]
    },
    {
      "cell_type": "code",
      "metadata": {
        "id": "6ZBvkVwxobAz",
        "colab_type": "code",
        "colab": {}
      },
      "source": [
        "points = np.arange(-5 , 5 , 0.01)"
      ],
      "execution_count": 0,
      "outputs": []
    },
    {
      "cell_type": "code",
      "metadata": {
        "id": "gnf1DiG4oa-t",
        "colab_type": "code",
        "colab": {}
      },
      "source": [
        "xs , ys = np.meshgrid(points , points)"
      ],
      "execution_count": 0,
      "outputs": []
    },
    {
      "cell_type": "code",
      "metadata": {
        "id": "Bj16qjJPoa5_",
        "colab_type": "code",
        "colab": {}
      },
      "source": [
        "z = np.sqrt(xs **2 + ys ** 2)"
      ],
      "execution_count": 0,
      "outputs": []
    },
    {
      "cell_type": "code",
      "metadata": {
        "id": "sy3tixmCoa4J",
        "colab_type": "code",
        "colab": {
          "base_uri": "https://localhost:8080/",
          "height": 256
        },
        "outputId": "64fd8779-3956-4e32-d4e5-118bc4b57e52"
      },
      "source": [
        "z"
      ],
      "execution_count": 809,
      "outputs": [
        {
          "output_type": "execute_result",
          "data": {
            "text/plain": [
              "array([[7.07106781, 7.06400028, 7.05693985, ..., 7.04988652, 7.05693985,\n",
              "        7.06400028],\n",
              "       [7.06400028, 7.05692568, 7.04985815, ..., 7.04279774, 7.04985815,\n",
              "        7.05692568],\n",
              "       [7.05693985, 7.04985815, 7.04278354, ..., 7.03571603, 7.04278354,\n",
              "        7.04985815],\n",
              "       ...,\n",
              "       [7.04988652, 7.04279774, 7.03571603, ..., 7.0286414 , 7.03571603,\n",
              "        7.04279774],\n",
              "       [7.05693985, 7.04985815, 7.04278354, ..., 7.03571603, 7.04278354,\n",
              "        7.04985815],\n",
              "       [7.06400028, 7.05692568, 7.04985815, ..., 7.04279774, 7.04985815,\n",
              "        7.05692568]])"
            ]
          },
          "metadata": {
            "tags": []
          },
          "execution_count": 809
        }
      ]
    },
    {
      "cell_type": "code",
      "metadata": {
        "id": "IcgAEg0Foa1q",
        "colab_type": "code",
        "colab": {}
      },
      "source": [
        "import matplotlib.pyplot as plt"
      ],
      "execution_count": 0,
      "outputs": []
    },
    {
      "cell_type": "code",
      "metadata": {
        "id": "HP9w_3ZDoawt",
        "colab_type": "code",
        "colab": {
          "base_uri": "https://localhost:8080/",
          "height": 306
        },
        "outputId": "c46e9f8e-06a1-4cec-eb73-53ffd089e9ae"
      },
      "source": [
        "plt.imshow(z , cmap = plt.cm.gray)\n",
        "plt.colorbar()\n",
        "plt.title('$\\sqrt{x^2 + y^2 }$')"
      ],
      "execution_count": 811,
      "outputs": [
        {
          "output_type": "execute_result",
          "data": {
            "text/plain": [
              "Text(0.5, 1.0, '$\\\\sqrt{x^2 + y^2 }$')"
            ]
          },
          "metadata": {
            "tags": []
          },
          "execution_count": 811
        },
        {
          "output_type": "display_data",
          "data": {
            "image/png": "[encoded data removed]",
            "text/plain": [
              "<Figure size 432x288 with 2 Axes>"
            ]
          },
          "metadata": {
            "tags": []
          }
        }
      ]
    },
    {
      "cell_type": "code",
      "metadata": {
        "id": "xZEGiDj3oat_",
        "colab_type": "code",
        "colab": {}
      },
      "source": [
        "xarr = np.array([1.1, 1.2, 1.3, 1.4, 1.5])\n",
        "yarr = np.array([2.1, 2.2, 2.3, 2.4, 2.5])\n",
        "cond = np.array([True, False, True, True, False])"
      ],
      "execution_count": 0,
      "outputs": []
    },
    {
      "cell_type": "code",
      "metadata": {
        "id": "lXk_ymYJoar7",
        "colab_type": "code",
        "colab": {
          "base_uri": "https://localhost:8080/",
          "height": 35
        },
        "outputId": "f701f6d2-2fd8-4aba-980c-b86b5779b0c3"
      },
      "source": [
        "result = [(x if c else y)\n",
        "          for x, y, c in zip(xarr, yarr, cond)]\n",
        "result"
      ],
      "execution_count": 813,
      "outputs": [
        {
          "output_type": "execute_result",
          "data": {
            "text/plain": [
              "[1.1, 2.2, 1.3, 1.4, 2.5]"
            ]
          },
          "metadata": {
            "tags": []
          },
          "execution_count": 813
        }
      ]
    },
    {
      "cell_type": "code",
      "metadata": {
        "id": "VG-4wwR6oain",
        "colab_type": "code",
        "colab": {
          "base_uri": "https://localhost:8080/",
          "height": 35
        },
        "outputId": "afe86eca-baf8-448a-e387-cbeff9a02bab"
      },
      "source": [
        "np.where(cond , xarr , yarr)"
      ],
      "execution_count": 814,
      "outputs": [
        {
          "output_type": "execute_result",
          "data": {
            "text/plain": [
              "array([1.1, 2.2, 1.3, 1.4, 2.5])"
            ]
          },
          "metadata": {
            "tags": []
          },
          "execution_count": 814
        }
      ]
    },
    {
      "cell_type": "code",
      "metadata": {
        "id": "uZBkC186oaf0",
        "colab_type": "code",
        "colab": {
          "base_uri": "https://localhost:8080/",
          "height": 90
        },
        "outputId": "704f10be-745e-44ac-d508-a4dbe66ad044"
      },
      "source": [
        "arr = np.random.randn(4, 4)\n",
        "arr"
      ],
      "execution_count": 815,
      "outputs": [
        {
          "output_type": "execute_result",
          "data": {
            "text/plain": [
              "array([[-0.52598743, -1.56170765,  0.13075223, -0.82977782],\n",
              "       [-0.66326352, -0.65829371, -0.28456563,  1.35200387],\n",
              "       [ 1.81321683, -0.7029774 , -2.78082659,  1.30520611],\n",
              "       [ 0.84145173,  0.31067151,  0.92483385,  2.62811645]])"
            ]
          },
          "metadata": {
            "tags": []
          },
          "execution_count": 815
        }
      ]
    },
    {
      "cell_type": "code",
      "metadata": {
        "id": "yt9QnOXZoac9",
        "colab_type": "code",
        "colab": {
          "base_uri": "https://localhost:8080/",
          "height": 90
        },
        "outputId": "75872fd1-51b4-48a9-cf9f-3a2efd759711"
      },
      "source": [
        "arr > 0\n",
        "np.where(arr > 0, 2, -2) #If positive 2 , -ve means -2"
      ],
      "execution_count": 816,
      "outputs": [
        {
          "output_type": "execute_result",
          "data": {
            "text/plain": [
              "array([[-2, -2,  2, -2],\n",
              "       [-2, -2, -2,  2],\n",
              "       [ 2, -2, -2,  2],\n",
              "       [ 2,  2,  2,  2]])"
            ]
          },
          "metadata": {
            "tags": []
          },
          "execution_count": 816
        }
      ]
    },
    {
      "cell_type": "code",
      "metadata": {
        "id": "bCIpcvVdoaad",
        "colab_type": "code",
        "colab": {
          "base_uri": "https://localhost:8080/",
          "height": 90
        },
        "outputId": "c0d3adf0-b826-4318-dabd-b272c73e2faa"
      },
      "source": [
        "np.where(arr > 0 , 0 , arr)"
      ],
      "execution_count": 817,
      "outputs": [
        {
          "output_type": "execute_result",
          "data": {
            "text/plain": [
              "array([[-0.52598743, -1.56170765,  0.        , -0.82977782],\n",
              "       [-0.66326352, -0.65829371, -0.28456563,  0.        ],\n",
              "       [ 0.        , -0.7029774 , -2.78082659,  0.        ],\n",
              "       [ 0.        ,  0.        ,  0.        ,  0.        ]])"
            ]
          },
          "metadata": {
            "tags": []
          },
          "execution_count": 817
        }
      ]
    },
    {
      "cell_type": "code",
      "metadata": {
        "id": "V7W9zXIioaYb",
        "colab_type": "code",
        "colab": {
          "base_uri": "https://localhost:8080/",
          "height": 90
        },
        "outputId": "38ccd5da-d80e-4d0c-c773-5180281cb7f9"
      },
      "source": [
        "arr"
      ],
      "execution_count": 818,
      "outputs": [
        {
          "output_type": "execute_result",
          "data": {
            "text/plain": [
              "array([[-0.52598743, -1.56170765,  0.13075223, -0.82977782],\n",
              "       [-0.66326352, -0.65829371, -0.28456563,  1.35200387],\n",
              "       [ 1.81321683, -0.7029774 , -2.78082659,  1.30520611],\n",
              "       [ 0.84145173,  0.31067151,  0.92483385,  2.62811645]])"
            ]
          },
          "metadata": {
            "tags": []
          },
          "execution_count": 818
        }
      ]
    },
    {
      "cell_type": "code",
      "metadata": {
        "id": "lDGsTmItoaWj",
        "colab_type": "code",
        "colab": {
          "base_uri": "https://localhost:8080/",
          "height": 35
        },
        "outputId": "7b9e56b5-3ab0-409d-b4f3-4853847d1b6f"
      },
      "source": [
        "np.sum(arr , axis = 1)[-2]"
      ],
      "execution_count": 819,
      "outputs": [
        {
          "output_type": "execute_result",
          "data": {
            "text/plain": [
              "-0.36538104004187266"
            ]
          },
          "metadata": {
            "tags": []
          },
          "execution_count": 819
        }
      ]
    },
    {
      "cell_type": "code",
      "metadata": {
        "id": "7jiMEhnhoaUV",
        "colab_type": "code",
        "colab": {
          "base_uri": "https://localhost:8080/",
          "height": 35
        },
        "outputId": "a5686ff3-1c0c-4fa2-cd08-1f2eb97419ed"
      },
      "source": [
        "arr.mean(1)"
      ],
      "execution_count": 820,
      "outputs": [
        {
          "output_type": "execute_result",
          "data": {
            "text/plain": [
              "array([-0.69668017, -0.06352975, -0.09134526,  1.17626839])"
            ]
          },
          "metadata": {
            "tags": []
          },
          "execution_count": 820
        }
      ]
    },
    {
      "cell_type": "code",
      "metadata": {
        "id": "i5syvwiroaR1",
        "colab_type": "code",
        "colab": {
          "base_uri": "https://localhost:8080/",
          "height": 35
        },
        "outputId": "0842b19a-86a6-4ff1-98f6-fe832f1bcbff"
      },
      "source": [
        "arr.mean(0)"
      ],
      "execution_count": 821,
      "outputs": [
        {
          "output_type": "execute_result",
          "data": {
            "text/plain": [
              "array([ 0.3663544 , -0.65307681, -0.50245153,  1.11388715])"
            ]
          },
          "metadata": {
            "tags": []
          },
          "execution_count": 821
        }
      ]
    },
    {
      "cell_type": "code",
      "metadata": {
        "id": "6-8pFn7IoaPu",
        "colab_type": "code",
        "colab": {}
      },
      "source": [
        "a = np.arange(10)"
      ],
      "execution_count": 0,
      "outputs": []
    },
    {
      "cell_type": "code",
      "metadata": {
        "id": "_FDToVl6oaN-",
        "colab_type": "code",
        "colab": {
          "base_uri": "https://localhost:8080/",
          "height": 35
        },
        "outputId": "e8cb3b95-a7f9-4b11-8115-e8f27e82557f"
      },
      "source": [
        "a"
      ],
      "execution_count": 823,
      "outputs": [
        {
          "output_type": "execute_result",
          "data": {
            "text/plain": [
              "array([0, 1, 2, 3, 4, 5, 6, 7, 8, 9])"
            ]
          },
          "metadata": {
            "tags": []
          },
          "execution_count": 823
        }
      ]
    },
    {
      "cell_type": "code",
      "metadata": {
        "id": "cY9jmKxZoaJP",
        "colab_type": "code",
        "colab": {
          "base_uri": "https://localhost:8080/",
          "height": 35
        },
        "outputId": "64335d10-1447-4281-ff37-7c087037849e"
      },
      "source": [
        "a.cumsum()"
      ],
      "execution_count": 824,
      "outputs": [
        {
          "output_type": "execute_result",
          "data": {
            "text/plain": [
              "array([ 0,  1,  3,  6, 10, 15, 21, 28, 36, 45])"
            ]
          },
          "metadata": {
            "tags": []
          },
          "execution_count": 824
        }
      ]
    },
    {
      "cell_type": "code",
      "metadata": {
        "id": "C945IPw8oaHA",
        "colab_type": "code",
        "colab": {}
      },
      "source": [
        "a = np.array([[1,2,3] , [4,5,6] , [7,8,9]])"
      ],
      "execution_count": 0,
      "outputs": []
    },
    {
      "cell_type": "code",
      "metadata": {
        "id": "70lB7GDKoaEO",
        "colab_type": "code",
        "colab": {
          "base_uri": "https://localhost:8080/",
          "height": 72
        },
        "outputId": "90a9455b-0a0c-4a21-8d50-8d4749cbd6d3"
      },
      "source": [
        "a"
      ],
      "execution_count": 826,
      "outputs": [
        {
          "output_type": "execute_result",
          "data": {
            "text/plain": [
              "array([[1, 2, 3],\n",
              "       [4, 5, 6],\n",
              "       [7, 8, 9]])"
            ]
          },
          "metadata": {
            "tags": []
          },
          "execution_count": 826
        }
      ]
    },
    {
      "cell_type": "code",
      "metadata": {
        "id": "YAddmwQ0oaCN",
        "colab_type": "code",
        "colab": {
          "base_uri": "https://localhost:8080/",
          "height": 72
        },
        "outputId": "54b3317a-5bcb-4778-a891-61d2a6643d91"
      },
      "source": [
        "a.cumprod(1)"
      ],
      "execution_count": 827,
      "outputs": [
        {
          "output_type": "execute_result",
          "data": {
            "text/plain": [
              "array([[  1,   2,   6],\n",
              "       [  4,  20, 120],\n",
              "       [  7,  56, 504]])"
            ]
          },
          "metadata": {
            "tags": []
          },
          "execution_count": 827
        }
      ]
    },
    {
      "cell_type": "code",
      "metadata": {
        "id": "PBgZluEgoZ_9",
        "colab_type": "code",
        "colab": {
          "base_uri": "https://localhost:8080/",
          "height": 72
        },
        "outputId": "40db7fbe-3c4e-4a90-cf34-0e0f0dcdf91c"
      },
      "source": [
        "a"
      ],
      "execution_count": 828,
      "outputs": [
        {
          "output_type": "execute_result",
          "data": {
            "text/plain": [
              "array([[1, 2, 3],\n",
              "       [4, 5, 6],\n",
              "       [7, 8, 9]])"
            ]
          },
          "metadata": {
            "tags": []
          },
          "execution_count": 828
        }
      ]
    },
    {
      "cell_type": "code",
      "metadata": {
        "id": "IvIgXdf0y_u4",
        "colab_type": "code",
        "colab": {
          "base_uri": "https://localhost:8080/",
          "height": 35
        },
        "outputId": "88f5394b-da6a-40b3-d0d6-7c03b8414932"
      },
      "source": [
        "np.argmin(a)"
      ],
      "execution_count": 829,
      "outputs": [
        {
          "output_type": "execute_result",
          "data": {
            "text/plain": [
              "0"
            ]
          },
          "metadata": {
            "tags": []
          },
          "execution_count": 829
        }
      ]
    },
    {
      "cell_type": "code",
      "metadata": {
        "id": "CYcQwUUZy_sf",
        "colab_type": "code",
        "colab": {
          "base_uri": "https://localhost:8080/",
          "height": 35
        },
        "outputId": "8d08312a-069c-4949-a4dc-c86f27765046"
      },
      "source": [
        "np.argmax(a)"
      ],
      "execution_count": 830,
      "outputs": [
        {
          "output_type": "execute_result",
          "data": {
            "text/plain": [
              "8"
            ]
          },
          "metadata": {
            "tags": []
          },
          "execution_count": 830
        }
      ]
    },
    {
      "cell_type": "code",
      "metadata": {
        "id": "dCx27g1sy_qR",
        "colab_type": "code",
        "colab": {
          "base_uri": "https://localhost:8080/",
          "height": 90
        },
        "outputId": "82106464-92c2-42f6-fa4f-740e0a437c5b"
      },
      "source": [
        "arr"
      ],
      "execution_count": 831,
      "outputs": [
        {
          "output_type": "execute_result",
          "data": {
            "text/plain": [
              "array([[-0.52598743, -1.56170765,  0.13075223, -0.82977782],\n",
              "       [-0.66326352, -0.65829371, -0.28456563,  1.35200387],\n",
              "       [ 1.81321683, -0.7029774 , -2.78082659,  1.30520611],\n",
              "       [ 0.84145173,  0.31067151,  0.92483385,  2.62811645]])"
            ]
          },
          "metadata": {
            "tags": []
          },
          "execution_count": 831
        }
      ]
    },
    {
      "cell_type": "code",
      "metadata": {
        "id": "g4798zNqy_oH",
        "colab_type": "code",
        "colab": {
          "base_uri": "https://localhost:8080/",
          "height": 35
        },
        "outputId": "9444d16a-5950-490d-b7e8-68d23d154bef"
      },
      "source": [
        "(arr > 0).sum()\n",
        "\n",
        "#Total positive numbers"
      ],
      "execution_count": 832,
      "outputs": [
        {
          "output_type": "execute_result",
          "data": {
            "text/plain": [
              "8"
            ]
          },
          "metadata": {
            "tags": []
          },
          "execution_count": 832
        }
      ]
    },
    {
      "cell_type": "code",
      "metadata": {
        "id": "I8iv017py_lx",
        "colab_type": "code",
        "colab": {
          "base_uri": "https://localhost:8080/",
          "height": 90
        },
        "outputId": "bc449dda-9ff5-4d91-f788-1572d6654301"
      },
      "source": [
        "arr"
      ],
      "execution_count": 833,
      "outputs": [
        {
          "output_type": "execute_result",
          "data": {
            "text/plain": [
              "array([[-0.52598743, -1.56170765,  0.13075223, -0.82977782],\n",
              "       [-0.66326352, -0.65829371, -0.28456563,  1.35200387],\n",
              "       [ 1.81321683, -0.7029774 , -2.78082659,  1.30520611],\n",
              "       [ 0.84145173,  0.31067151,  0.92483385,  2.62811645]])"
            ]
          },
          "metadata": {
            "tags": []
          },
          "execution_count": 833
        }
      ]
    },
    {
      "cell_type": "code",
      "metadata": {
        "id": "Up5of0Q5y_jp",
        "colab_type": "code",
        "colab": {}
      },
      "source": [
        "arr.sort()"
      ],
      "execution_count": 0,
      "outputs": []
    },
    {
      "cell_type": "code",
      "metadata": {
        "id": "hfEKGT4Ay_hj",
        "colab_type": "code",
        "colab": {
          "base_uri": "https://localhost:8080/",
          "height": 90
        },
        "outputId": "b25822e4-03a6-4ad5-b6bb-b139c66054fe"
      },
      "source": [
        "arr"
      ],
      "execution_count": 835,
      "outputs": [
        {
          "output_type": "execute_result",
          "data": {
            "text/plain": [
              "array([[-1.56170765, -0.82977782, -0.52598743,  0.13075223],\n",
              "       [-0.66326352, -0.65829371, -0.28456563,  1.35200387],\n",
              "       [-2.78082659, -0.7029774 ,  1.30520611,  1.81321683],\n",
              "       [ 0.31067151,  0.84145173,  0.92483385,  2.62811645]])"
            ]
          },
          "metadata": {
            "tags": []
          },
          "execution_count": 835
        }
      ]
    },
    {
      "cell_type": "code",
      "metadata": {
        "id": "QjYJObBcy_VZ",
        "colab_type": "code",
        "colab": {}
      },
      "source": [
        "a = np.random.randn(5,4)"
      ],
      "execution_count": 0,
      "outputs": []
    },
    {
      "cell_type": "code",
      "metadata": {
        "id": "MCu3tt0cy_NK",
        "colab_type": "code",
        "colab": {
          "base_uri": "https://localhost:8080/",
          "height": 109
        },
        "outputId": "8df27887-453c-4af1-a92d-d4886db37586"
      },
      "source": [
        "a"
      ],
      "execution_count": 837,
      "outputs": [
        {
          "output_type": "execute_result",
          "data": {
            "text/plain": [
              "array([[ 0.28958102, -1.40809845, -1.00479326,  0.21440769],\n",
              "       [-0.4070215 , -1.66671105,  0.67154551, -2.41753489],\n",
              "       [ 0.6361532 ,  0.54509843, -1.70183853,  0.1816646 ],\n",
              "       [-1.18697005,  0.53073179, -0.58141033,  0.33258396],\n",
              "       [-0.31204037, -0.76441877,  1.68296219, -0.18808012]])"
            ]
          },
          "metadata": {
            "tags": []
          },
          "execution_count": 837
        }
      ]
    },
    {
      "cell_type": "code",
      "metadata": {
        "id": "SOh13RRay_IB",
        "colab_type": "code",
        "colab": {}
      },
      "source": [
        "a.sort(1)"
      ],
      "execution_count": 0,
      "outputs": []
    },
    {
      "cell_type": "code",
      "metadata": {
        "id": "BxaOQYyPoZ41",
        "colab_type": "code",
        "colab": {
          "base_uri": "https://localhost:8080/",
          "height": 109
        },
        "outputId": "459938cb-3653-42f3-a845-95885fc04475"
      },
      "source": [
        "a"
      ],
      "execution_count": 839,
      "outputs": [
        {
          "output_type": "execute_result",
          "data": {
            "text/plain": [
              "array([[-1.40809845, -1.00479326,  0.21440769,  0.28958102],\n",
              "       [-2.41753489, -1.66671105, -0.4070215 ,  0.67154551],\n",
              "       [-1.70183853,  0.1816646 ,  0.54509843,  0.6361532 ],\n",
              "       [-1.18697005, -0.58141033,  0.33258396,  0.53073179],\n",
              "       [-0.76441877, -0.31204037, -0.18808012,  1.68296219]])"
            ]
          },
          "metadata": {
            "tags": []
          },
          "execution_count": 839
        }
      ]
    },
    {
      "cell_type": "code",
      "metadata": {
        "id": "irzvloG2oZ0x",
        "colab_type": "code",
        "colab": {}
      },
      "source": [
        ""
      ],
      "execution_count": 0,
      "outputs": []
    },
    {
      "cell_type": "code",
      "metadata": {
        "id": "AqiOd3Yi0oS3",
        "colab_type": "code",
        "colab": {}
      },
      "source": [
        "l = np.random.randn(1000)"
      ],
      "execution_count": 0,
      "outputs": []
    },
    {
      "cell_type": "code",
      "metadata": {
        "id": "V8zwLk9E0oQ4",
        "colab_type": "code",
        "colab": {
          "base_uri": "https://localhost:8080/",
          "height": 1000
        },
        "outputId": "71c8ed25-9d1a-4418-fcec-f1c11d7b09a1"
      },
      "source": [
        "l"
      ],
      "execution_count": 841,
      "outputs": [
        {
          "output_type": "execute_result",
          "data": {
            "text/plain": [
              "array([-2.72458767e-01, -1.43965172e+00, -2.60697478e-01, -1.04189385e+00,\n",
              "       -7.62472578e-01,  2.10706330e+00, -9.36628346e-01,  7.18871919e-01,\n",
              "        1.99735215e+00, -2.19052012e+00, -8.42588784e-01, -6.99457562e-01,\n",
              "        1.02595658e+00,  5.10937300e-01,  8.63598688e-01, -9.92671621e-01,\n",
              "        1.87889122e-01,  1.57348695e-01, -3.21286277e-01, -1.47431646e-02,\n",
              "       -1.30438935e+00, -8.03228111e-01, -6.69420487e-02,  2.08429085e-01,\n",
              "       -1.28950527e+00, -1.12352023e+00, -3.23362219e-01, -1.99087090e+00,\n",
              "       -1.02472087e+00, -1.47298866e+00, -8.69779906e-01,  1.25248931e+00,\n",
              "        1.25632683e+00, -1.20631986e+00, -8.89985639e-01, -6.11601636e-01,\n",
              "       -1.06307816e+00,  1.69461027e+00, -8.61668580e-02, -2.18319439e+00,\n",
              "        2.06903806e-01,  9.48759826e-01,  1.41800270e+00, -1.04274823e+00,\n",
              "       -5.59497629e-02, -7.50872809e-01,  1.07537302e+00, -7.55840887e-01,\n",
              "        6.30004607e-01, -7.48479538e-01, -1.01701847e-01,  2.33360252e-01,\n",
              "       -1.30745273e+00,  1.82840069e+00, -1.73035542e+00,  1.44070801e-01,\n",
              "        5.16761221e-01,  6.29263579e-01, -2.08903056e+00, -9.39072079e-02,\n",
              "       -1.44284553e+00,  9.87884721e-02, -1.11553272e-01,  3.64058038e+00,\n",
              "        1.02455130e+00,  1.16329111e+00, -4.25768251e-01, -7.63981173e-01,\n",
              "       -1.06244561e+00, -1.65874240e-01, -1.11219795e+00,  6.88776613e-01,\n",
              "       -7.40127071e-01, -2.24583987e-01,  2.96774225e-01,  2.17988968e-01,\n",
              "       -2.32048316e-01,  3.00894260e+00,  1.68613567e+00,  4.34055478e-01,\n",
              "        1.22391755e+00, -1.95541244e+00,  5.03687915e-01, -1.96128390e-01,\n",
              "        1.66856517e+00, -4.83652477e-01, -5.79166836e-02, -1.34370572e+00,\n",
              "        4.17744128e-01, -1.19805655e+00,  7.66573600e-01, -3.48595638e-01,\n",
              "       -3.73734897e-01,  7.98106315e-01,  1.24317897e+00,  2.09412021e+00,\n",
              "       -5.90500034e-01, -2.28042880e-01,  6.46902499e-01, -2.23817576e-01,\n",
              "        1.13441201e-01,  1.18613093e-01, -4.50191327e-01, -6.38140044e-01,\n",
              "       -1.04198315e+00, -1.11587073e+00,  1.31019661e+00,  1.94298566e+00,\n",
              "       -1.64125091e+00,  7.10256605e-01, -1.81178634e+00,  4.45153011e-01,\n",
              "        1.52342702e+00,  1.62474238e-02,  8.26840585e-01, -6.20952756e-01,\n",
              "       -1.48961590e+00,  5.99246435e-01,  2.33698925e+00,  1.31697010e+00,\n",
              "       -6.17254923e-01,  9.98776969e-02,  2.70771495e-01,  2.89217971e+00,\n",
              "       -2.62051870e-01,  2.73389079e-01,  4.23233087e-01, -1.10966640e+00,\n",
              "        4.27453306e-01,  9.73513357e-01,  2.73184131e-02,  1.70064575e-01,\n",
              "        2.76478511e-01, -1.44462822e+00,  4.96881895e-01,  1.12779666e+00,\n",
              "        1.46168567e-01, -2.29530815e-01, -8.32033991e-01, -4.24948215e-01,\n",
              "       -2.00603287e+00, -6.16228879e-01, -8.49750193e-01,  1.64231678e-01,\n",
              "        1.34470952e-01,  1.79577232e-01,  7.32625169e-01,  9.45593130e-02,\n",
              "        3.45442508e-01,  8.12455717e-01,  1.54697898e+00,  3.17821305e-01,\n",
              "       -3.11584957e-01,  3.09285833e-01,  2.06790149e-01, -4.38470314e-01,\n",
              "        1.09611815e+00, -1.26371995e+00, -1.26103515e+00, -8.24654992e-01,\n",
              "       -2.62398526e-01,  4.88795618e-01,  1.36427307e+00, -5.94868398e-01,\n",
              "        1.25496590e+00, -1.35144801e+00, -5.51140544e-01,  5.11149413e-01,\n",
              "        3.77025151e-01,  1.34006398e+00,  2.12498765e+00,  2.93138422e-01,\n",
              "        1.07949263e+00, -2.36862916e-01,  1.63796902e-01,  1.90757435e-01,\n",
              "       -9.58816834e-02,  2.60889020e-01, -4.19081033e-02, -1.46029939e+00,\n",
              "       -1.37505598e+00, -1.58621154e-01, -5.89657935e-01, -1.37061574e+00,\n",
              "       -8.43025460e-01, -1.54708284e+00, -9.71266046e-01,  7.12447869e-01,\n",
              "       -1.13762898e+00, -8.65927867e-01, -2.83440854e+00,  2.34900066e-01,\n",
              "       -5.64242611e-01, -7.83052494e-01, -5.07631934e-02,  6.86356330e-01,\n",
              "        8.78980443e-01, -1.31169133e+00, -1.95896102e+00, -1.58768395e+00,\n",
              "        7.51400935e-01,  2.69875267e+00, -3.88000905e+00, -1.67074399e+00,\n",
              "       -8.82027618e-01, -2.40667637e-03,  5.46258311e-01,  7.61361327e-01,\n",
              "       -4.75813505e-01,  1.17125532e+00, -2.32932442e+00, -1.13986638e-01,\n",
              "        1.51565957e-01, -1.60364231e+00,  6.05135938e-01, -5.85300510e-01,\n",
              "       -9.32591496e-01,  1.56955967e+00,  2.30738288e-01, -3.68973564e-01,\n",
              "       -5.95723446e-03, -8.24615477e-01, -1.51714310e-01, -9.35919932e-01,\n",
              "       -1.48965874e+00, -8.32533048e-01,  4.28177793e-01,  2.40308986e-01,\n",
              "        2.21627860e+00, -9.79425473e-01, -1.36314079e+00, -3.92149295e-01,\n",
              "       -3.26076902e-01,  1.66690404e-01,  1.83547008e+00, -5.26083995e-01,\n",
              "       -3.69417834e-01, -1.19767571e+00,  4.73098320e-01,  8.73489500e-01,\n",
              "        1.53196057e-01, -2.14515190e+00, -1.28084665e-02, -1.03452645e+00,\n",
              "       -3.74661768e-02, -4.00937315e-02,  5.88471471e-01, -2.09736516e+00,\n",
              "       -5.01934235e-01,  7.30632123e-01,  9.27147475e-01,  3.51558840e-01,\n",
              "       -8.52029594e-02,  1.30622919e-01,  3.76316265e-01,  5.49449664e-01,\n",
              "        9.55309793e-01,  1.05227854e+00, -9.71144264e-01, -6.26148527e-02,\n",
              "       -3.74143345e-01,  2.72485593e-01, -1.17429132e+00, -7.13745030e-01,\n",
              "        4.21050625e-01, -1.99015487e-01, -4.32258712e-01,  1.49340113e+00,\n",
              "       -1.75639388e+00, -1.05724283e+00,  4.57876059e-01, -9.09593631e-01,\n",
              "       -7.62919397e-01, -3.73311407e-01,  5.25144797e-02,  1.31979343e-01,\n",
              "        6.50055576e-01, -4.69349160e-01, -5.04276155e-01, -5.14685759e-01,\n",
              "       -1.89440205e+00, -1.76631648e+00, -1.68692008e+00,  1.57281089e-01,\n",
              "        1.69728449e+00, -9.59623567e-01, -9.62412623e-01,  2.93045112e-01,\n",
              "       -8.31423291e-01, -1.06407459e+00,  7.18595526e-01,  3.50845434e-01,\n",
              "        1.65585028e+00, -7.68300359e-01,  5.11244879e-01,  3.70076091e-01,\n",
              "        5.08772975e-01, -5.60761566e-01, -4.46460450e-01, -2.73751217e-02,\n",
              "        1.50559991e-01,  1.09027720e+00,  1.05412218e-01,  7.17952373e-01,\n",
              "       -1.25618033e+00, -7.52635853e-01,  4.50140074e-01, -7.60497522e-02,\n",
              "        1.27454693e+00, -1.59836962e+00, -1.82849826e+00,  1.83934524e+00,\n",
              "       -1.45926805e+00, -2.71018904e-01, -7.11300994e-01,  8.91049710e-01,\n",
              "       -1.58663244e+00, -6.07840779e-01,  3.95947738e-01, -4.39603863e-02,\n",
              "        3.48841539e-01, -2.13327627e+00, -1.31041888e+00,  2.53438082e+00,\n",
              "       -9.19790474e-01, -2.31582602e+00, -1.05527660e-01, -7.50457482e-01,\n",
              "       -3.73244471e-01, -9.51542584e-01,  2.76732885e-01,  1.87144986e+00,\n",
              "       -1.24031209e+00, -2.49895797e-01, -8.48241515e-01,  2.46561321e-01,\n",
              "        2.17711712e-01,  5.26438778e-01, -8.42008593e-01,  1.49394649e+00,\n",
              "       -9.36463829e-02, -5.95615273e-01,  1.37242392e+00,  9.73932840e-01,\n",
              "        1.26941724e+00, -3.70956772e-02, -4.94847351e-01, -6.46313745e-04,\n",
              "        1.15374716e+00, -1.65171532e+00,  1.89889356e+00, -8.85563022e-02,\n",
              "       -1.71763290e+00,  7.66481581e-01,  6.93409286e-01,  4.27702550e-01,\n",
              "       -8.82202785e-01, -2.88146037e-02,  9.97390929e-01, -1.28400731e-01,\n",
              "       -1.48449303e-01, -3.72941190e-01,  1.66071146e+00, -1.56178161e+00,\n",
              "       -4.47651342e-01, -9.60214735e-01,  5.25707374e-01,  5.59735891e-01,\n",
              "        6.39659965e-01,  1.37187399e+00,  1.83239028e+00, -3.12730376e-01,\n",
              "        1.27168264e+00,  7.41812153e-01, -1.81958789e-03, -1.05515281e+00,\n",
              "       -3.52566944e-01,  5.75152565e-01, -1.53316457e+00, -1.36729481e+00,\n",
              "       -1.68661190e+00, -8.63292999e-01, -6.26506196e-01,  2.17634116e-01,\n",
              "        1.17777268e+00,  1.01225895e-01, -3.37531153e-01,  1.29330874e+00,\n",
              "       -1.55600595e-01, -1.37402921e-01, -2.07422926e+00,  8.73181307e-02,\n",
              "        4.06203285e-01, -2.86822062e-01,  5.26289242e-01, -9.67344530e-01,\n",
              "        5.56621059e-02, -2.38781956e+00, -1.24829077e+00, -7.91917169e-02,\n",
              "        2.91363485e-01,  2.22214560e-01, -2.22800495e-01,  1.01003470e-01,\n",
              "        1.66485696e-01,  1.49868833e-01,  9.73756728e-01,  1.86751873e-02,\n",
              "        1.39750261e-01,  8.24824719e-01, -1.82510206e+00, -1.22391202e+00,\n",
              "       -1.14248870e+00,  3.30191461e-01,  3.24561233e-01,  3.80054418e-01,\n",
              "        1.53282464e+00, -1.91615653e-01,  7.44030167e-01, -5.94377011e-02,\n",
              "       -9.09090609e-01,  1.31749525e-01,  3.85939702e-01,  1.39001968e+00,\n",
              "       -1.99740569e-01, -1.33669489e+00,  1.02717388e+00,  7.58459728e-01,\n",
              "        9.86181337e-02, -4.22497936e-01,  1.00021957e+00, -2.21936862e-02,\n",
              "       -1.86458351e+00, -3.82936599e-02, -4.56744837e-01,  1.56748462e-01,\n",
              "       -9.77044475e-01,  3.41831800e-01, -1.23100992e-01, -1.47740234e+00,\n",
              "        8.93285739e-01, -6.53024612e-01, -2.80967111e-01,  5.66738229e-01,\n",
              "        9.90939915e-01, -1.58790138e+00, -2.92530938e-02,  7.74962467e-01,\n",
              "        7.91422586e-01,  5.55410241e-01, -1.74026462e-01,  4.10504044e-01,\n",
              "       -2.48239326e-01, -1.21328835e+00,  3.31801046e-01, -6.98225167e-01,\n",
              "        7.48737405e-01,  1.19609134e+00, -1.43832408e+00, -7.39273680e-01,\n",
              "       -4.60029472e-01,  1.66287222e-01, -2.88184992e-01, -1.58368296e+00,\n",
              "        7.47957101e-01, -1.90395080e+00, -8.87308165e-01, -1.20959971e+00,\n",
              "       -5.04871889e-01,  9.35369242e-01,  8.50599489e-01, -5.09326059e-01,\n",
              "        5.23435806e-01, -8.01055115e-01, -1.14422941e+00, -2.83965844e-02,\n",
              "        1.91694603e+00, -2.57209548e-01, -7.77389295e-01, -1.40128909e+00,\n",
              "        1.42532903e+00, -1.33568150e+00, -1.82631585e-01,  1.21333876e+00,\n",
              "        3.44773192e-01,  4.85030264e-01,  4.81517497e-01, -6.14913880e-01,\n",
              "        6.50185423e-01, -8.12360724e-01,  6.11036452e-01, -1.59905519e+00,\n",
              "        1.33923857e+00, -1.69535484e+00, -1.09408810e+00,  1.05528753e+00,\n",
              "       -1.80731242e-01, -5.23119498e-01,  1.28747166e+00, -8.72875712e-01,\n",
              "        5.92635644e-01, -2.12933831e-01,  2.24171941e+00,  2.48921221e-01,\n",
              "       -6.22780280e-01,  2.24396200e+00,  2.56668054e-01, -7.05982356e-01,\n",
              "        1.39098131e+00, -1.02275255e+00,  1.35294198e+00,  1.19945442e+00,\n",
              "       -7.98002356e-02,  2.74864073e-01, -4.15340105e-01,  2.00572505e+00,\n",
              "       -2.62219365e-01, -1.56228103e+00,  1.15189991e+00,  1.93790116e+00,\n",
              "        3.64243259e-01,  4.21066785e-01,  2.30263420e-01, -1.52752232e+00,\n",
              "       -4.31133523e-01, -7.08283227e-01,  6.70128366e-02,  1.29465374e-01,\n",
              "       -2.12258180e+00, -9.79188013e-01,  2.50699084e-01, -1.33872651e+00,\n",
              "       -2.27882064e+00,  2.28167864e-01,  6.59445545e-01, -7.04630317e-01,\n",
              "       -6.52173483e-01, -6.00658604e-01, -3.16096636e-01,  7.52315978e-01,\n",
              "       -3.83825091e-01,  1.58888497e+00,  8.17911531e-01, -1.15224816e+00,\n",
              "       -7.81768090e-01, -6.06835805e-01,  1.12292168e+00, -5.98994351e-01,\n",
              "        1.29106712e+00,  2.46243131e-01,  1.73892372e+00,  5.47954733e-01,\n",
              "        5.40064793e-01, -1.04638292e+00, -1.10629432e+00,  1.14177060e+00,\n",
              "        9.33627232e-01,  1.48282354e+00,  1.49296586e+00,  2.06820961e+00,\n",
              "        2.27707133e+00,  1.01568122e+00,  9.10712627e-01,  2.33562821e-01,\n",
              "        3.12795376e+00, -4.19153209e-01,  2.38700768e+00,  1.21333329e+00,\n",
              "        6.60843484e-01,  1.56706390e+00,  1.72571222e+00, -1.12663377e+00,\n",
              "        1.15466055e+00, -1.47299033e-01,  2.47950067e-01, -1.18025826e+00,\n",
              "       -1.42839575e+00, -1.47540314e+00,  1.05304544e+00,  2.79630011e+00,\n",
              "        9.28780266e-01,  5.73773793e-01,  2.58943765e-01, -1.16137191e-01,\n",
              "       -8.37844679e-01, -2.82811042e-01,  9.07073396e-01,  1.13744588e+00,\n",
              "       -1.38783493e-01, -7.61108624e-01, -1.42994084e+00, -2.74906471e-01,\n",
              "       -8.63382332e-02, -9.65815177e-01, -4.34551803e-01, -5.57252299e-01,\n",
              "       -5.03749908e-01,  4.17066552e-01, -6.70140820e-01, -1.62398343e+00,\n",
              "       -7.31301378e-01, -1.34490063e+00, -9.72244136e-01,  1.93497630e-01,\n",
              "       -5.95432097e-01, -9.86675957e-02,  1.30832516e+00,  3.04095895e+00,\n",
              "       -2.37363106e+00,  8.55505873e-01,  4.67312419e-02, -1.93110768e-01,\n",
              "        1.10039616e+00, -1.02623977e-01, -4.37717223e-01, -1.17966407e+00,\n",
              "        9.24980309e-01,  9.94426788e-01, -5.26195172e-01,  6.94586477e-01,\n",
              "       -4.34143009e-01,  5.34510014e-01, -7.79236088e-01,  4.68191871e-01,\n",
              "        7.10348401e-01,  1.13970718e+00,  2.04770063e-01, -4.67020980e-01,\n",
              "        7.92368965e-01, -1.01765234e+00,  3.35169790e-01,  2.03694998e+00,\n",
              "       -2.16553763e+00, -1.00224060e+00, -1.14188007e+00,  8.84347853e-01,\n",
              "       -7.83693661e-01,  5.85758839e-02,  3.98358809e-01,  1.14158689e+00,\n",
              "       -1.22285736e+00, -1.41160776e+00,  1.86763839e+00,  1.51317615e+00,\n",
              "       -3.14847236e-01,  8.66796510e-01, -3.11195663e-01,  1.67351195e-01,\n",
              "       -6.54978967e-01,  3.50296440e-01,  1.68328723e+00,  3.08240716e-01,\n",
              "        7.30294057e-01, -8.79115559e-02, -1.15138931e-01,  6.35156715e-01,\n",
              "        1.06898247e+00,  1.20084342e+00,  6.22555003e-01, -9.40846574e-01,\n",
              "       -5.23341355e-01, -8.33526200e-01, -2.45049278e-01,  1.38988035e+00,\n",
              "        1.65922937e-01, -5.30683509e-01,  1.33108857e+00,  1.96513479e-01,\n",
              "        1.05547853e+00, -2.15758031e+00, -4.85949968e-01,  1.33839956e-01,\n",
              "        9.01689051e-01, -1.71886013e-01,  6.35067008e-01, -3.54883830e-02,\n",
              "       -7.26503659e-01, -1.13798460e+00, -6.99769419e-02,  1.57451152e-01,\n",
              "       -1.01942282e+00, -9.91314584e-01,  6.11356782e-01, -4.28330415e-01,\n",
              "        4.50581799e-01,  1.55630969e+00, -4.59849733e-01,  6.12397280e-01,\n",
              "        8.75768116e-01,  9.89269384e-01,  2.08368639e-01,  1.87525847e-01,\n",
              "       -4.85316506e-01,  7.41321611e-01, -5.04625292e-01,  1.01929662e+00,\n",
              "        6.06401717e-01,  4.40205275e-01, -8.10806111e-01, -2.01197346e+00,\n",
              "       -8.59983728e-01,  1.14545881e+00,  2.35993904e-01, -2.53791715e+00,\n",
              "       -5.83434729e-01,  5.27575860e-01, -9.56091029e-01, -3.00844989e-01,\n",
              "       -1.16637203e+00,  5.28225568e-01,  3.09915715e-01,  9.62680203e-01,\n",
              "        1.36156104e+00,  2.07105468e-02, -5.62368083e-02,  1.69819868e+00,\n",
              "        1.98069247e-01,  1.84857208e-01, -1.17910709e+00,  1.35391471e+00,\n",
              "       -3.02656260e-01, -2.18467724e+00,  2.40596305e-01,  2.55450716e-01,\n",
              "       -3.67363539e-01, -1.27049691e+00,  2.63129029e-01, -9.30944084e-01,\n",
              "       -3.08509872e-01, -5.74423243e-01,  1.17521326e-01, -5.34109682e-01,\n",
              "       -8.15592416e-01,  2.31991600e-01,  7.25411478e-01, -1.01365323e+00,\n",
              "       -1.22525327e+00, -9.06060017e-01,  1.51360039e+00, -8.34798952e-01,\n",
              "       -1.71472626e+00,  1.39874254e+00,  7.29702693e-01,  8.80461939e-01,\n",
              "       -1.51056673e+00,  5.99189853e-01, -4.06368126e-01, -9.53795855e-01,\n",
              "        9.80487173e-01, -2.39077314e-01,  1.29824358e+00,  1.52559716e-01,\n",
              "       -3.19488153e-01, -7.38656571e-02, -6.18825772e-01, -5.26012498e-01,\n",
              "       -9.81637218e-01, -7.01644157e-01, -1.40105907e+00, -5.05613277e-02,\n",
              "        3.74979878e-01, -1.64635603e+00,  1.27723889e-01,  1.15377137e+00,\n",
              "       -1.11646261e+00, -2.46679490e-01,  7.92599546e-01, -1.04215478e+00,\n",
              "       -2.82422541e+00,  8.79054358e-02, -1.09173921e+00,  6.10382832e-01,\n",
              "        6.64749364e-01, -2.09596762e-01, -2.05298549e-01, -3.86415795e-01,\n",
              "       -7.80742473e-02,  1.43719937e+00, -6.77243621e-01,  2.74195355e-01,\n",
              "       -1.64170628e+00, -4.13169099e-01,  1.51846605e-01,  1.39578667e+00,\n",
              "        6.75385010e-01,  1.51750970e+00, -1.39776641e+00, -1.76198362e-01,\n",
              "       -1.48718958e+00, -9.19063919e-01,  8.51803562e-01,  1.05813140e+00,\n",
              "        2.93667899e-01,  3.47611327e-01,  5.51435778e-02, -1.25194234e+00,\n",
              "        7.62345582e-01,  1.42488542e-01, -1.48327670e+00,  4.72947818e-01,\n",
              "       -5.54574146e-01, -1.30933518e+00,  1.53769960e+00,  8.54475205e-01,\n",
              "        1.91728542e-01, -3.45134714e-01,  5.23749294e-01,  1.05312456e+00,\n",
              "       -8.12317198e-01, -1.72461348e-01, -1.23475428e+00, -9.06521352e-01,\n",
              "       -4.77071403e-01, -1.19210227e+00, -8.26126215e-01, -7.73679218e-01,\n",
              "        7.93729289e-01,  3.57199235e-01,  9.84104247e-01,  6.30174889e-01,\n",
              "       -8.80428518e-01, -7.46895008e-01, -9.53015296e-01, -2.92933579e+00,\n",
              "        3.74055439e-01,  2.17760166e+00, -4.62399582e-01, -2.25439263e-01,\n",
              "        1.18974262e+00, -1.12038247e-01,  2.44106313e-01,  1.64893591e+00,\n",
              "       -8.41694674e-01, -6.10902670e-01, -7.71547840e-01,  1.23399037e-01,\n",
              "        6.25086795e-01, -4.95710816e-01,  1.66391984e+00,  4.32635473e-01,\n",
              "       -2.67161986e-01, -4.99990738e-01, -9.46262843e-01,  7.62003433e-01,\n",
              "        3.50646739e-01, -1.57998882e+00, -8.40577293e-01,  6.47116734e-01,\n",
              "        4.41812977e-01, -1.11969575e+00, -1.25097891e+00,  1.40690469e-01,\n",
              "       -1.00691914e+00,  5.99813900e-01, -5.40873726e-01,  1.51622689e+00,\n",
              "        6.40532379e-01,  5.52774447e-01, -2.94866404e-01,  1.06554049e-01,\n",
              "        8.17746203e-01,  2.86392763e+00,  1.51162824e-01, -7.31112427e-01,\n",
              "        1.80526964e+00,  1.30277502e-01,  1.66353503e+00,  5.96715401e-02,\n",
              "        2.10097819e-01,  4.86194562e-01,  7.78026259e-01, -1.23816144e+00,\n",
              "        1.87776973e+00, -6.64986767e-01,  1.41019068e+00, -4.46616675e-01,\n",
              "        1.71544390e+00, -2.23310107e+00, -5.11076460e-01,  1.14565371e+00,\n",
              "       -7.14931389e-03, -1.69482857e+00,  1.06846915e+00,  1.21427502e+00,\n",
              "        3.11588542e-01,  9.46552607e-01,  2.61998399e-01,  7.74535773e-01,\n",
              "       -3.48037265e-02, -2.64068425e-01,  1.23209155e+00, -3.93512031e-01,\n",
              "       -1.21269073e+00, -1.84042316e+00, -1.12605910e+00,  6.35941866e-01,\n",
              "       -6.01306237e-01,  2.37975641e-01, -5.55520060e-01, -4.22881544e-01,\n",
              "       -5.27868982e-01, -9.67533374e-01, -6.62843127e-01, -6.45607610e-01,\n",
              "       -1.06798058e+00, -6.13172620e-01, -2.84226845e-01,  9.14678451e-01,\n",
              "       -2.92699648e-01,  1.04384360e+00, -9.84294050e-01, -5.84625519e-01,\n",
              "       -8.98199096e-01, -2.21166984e+00, -2.39226376e-01,  1.90091963e+00,\n",
              "        2.68837774e-01, -3.27749103e-01,  9.95983842e-01,  1.10148873e+00,\n",
              "       -4.03574771e-01, -1.02161657e+00, -7.90809518e-01,  8.79985160e-02,\n",
              "       -6.38437245e-01, -2.64570658e-01,  4.16676030e-01, -1.86285618e+00,\n",
              "        1.48631765e-01,  1.53428097e-01, -1.79614745e-01, -2.12243044e+00,\n",
              "       -1.71325122e+00,  3.07303853e-01,  8.56198701e-02,  5.44236691e-01,\n",
              "        1.64788626e+00, -9.72858868e-01, -1.43164756e+00,  2.68571505e-01,\n",
              "       -4.99676897e-02, -4.51446500e-01,  9.65557528e-01, -1.88843948e+00,\n",
              "        8.20828520e-01, -1.72707009e+00,  6.17594721e-01, -1.61122951e+00,\n",
              "       -2.56181464e-02,  6.45569798e-01,  1.47776079e+00, -3.92067933e-01,\n",
              "        2.67330058e-01, -3.63188622e-01, -6.09354919e-01, -1.46122368e+00,\n",
              "       -4.67264161e-01,  1.38094639e+00,  2.22048407e+00, -1.28925081e+00,\n",
              "       -4.09594216e-02, -5.07545632e-01, -5.48999322e-01, -1.74634614e-02,\n",
              "       -2.01263617e+00, -2.89579262e-01, -7.05739602e-02,  6.07199789e-01,\n",
              "       -4.53454080e-01,  2.53204763e+00,  1.03085633e+00, -1.56944357e+00,\n",
              "        1.96999086e-02,  8.34696830e-01,  1.21001918e+00, -9.95579199e-01,\n",
              "        8.19602890e-01, -2.59790290e-01, -1.13262997e+00, -3.60720704e-01,\n",
              "        4.72992445e-01, -5.39684548e-01, -4.49815271e-01,  7.21155146e-01,\n",
              "        3.29641437e-01, -5.83372528e-02,  7.82797542e-01,  6.28950997e-01,\n",
              "        4.89704239e-01, -3.42799100e-01,  1.14729531e-01,  8.46560417e-01,\n",
              "        3.23973044e-01, -5.44517437e-01,  7.12699420e-01,  2.33849390e-01,\n",
              "        4.07572781e-01,  1.04076115e-01, -1.05226247e+00,  1.21393778e+00])"
            ]
          },
          "metadata": {
            "tags": []
          },
          "execution_count": 841
        }
      ]
    },
    {
      "cell_type": "code",
      "metadata": {
        "id": "LxhzUSyU0oOj",
        "colab_type": "code",
        "colab": {}
      },
      "source": [
        "l.sort()"
      ],
      "execution_count": 0,
      "outputs": []
    },
    {
      "cell_type": "code",
      "metadata": {
        "id": "W9WEbiQW0oLp",
        "colab_type": "code",
        "colab": {
          "base_uri": "https://localhost:8080/",
          "height": 35
        },
        "outputId": "9e6a0a50-a683-4a66-ca2f-cb58edd4d0e4"
      },
      "source": [
        "#Finding 7% quantile\n",
        "\n",
        "l[int(0.07 * len(l))]"
      ],
      "execution_count": 843,
      "outputs": [
        {
          "output_type": "execute_result",
          "data": {
            "text/plain": [
              "-1.5275223164559657"
            ]
          },
          "metadata": {
            "tags": []
          },
          "execution_count": 843
        }
      ]
    },
    {
      "cell_type": "code",
      "metadata": {
        "id": "Y78D_7mR0n_Y",
        "colab_type": "code",
        "colab": {}
      },
      "source": [
        "names = np.array(['Bob', 'Joe', 'Will', 'Bob', 'Will', 'Joe', 'Joe'])"
      ],
      "execution_count": 0,
      "outputs": []
    },
    {
      "cell_type": "code",
      "metadata": {
        "id": "aNh8aWUs0n8r",
        "colab_type": "code",
        "colab": {
          "base_uri": "https://localhost:8080/",
          "height": 35
        },
        "outputId": "a39f78df-30f6-4848-9f48-9ef81cf76df4"
      },
      "source": [
        "np.unique(names)"
      ],
      "execution_count": 845,
      "outputs": [
        {
          "output_type": "execute_result",
          "data": {
            "text/plain": [
              "array(['Bob', 'Joe', 'Will'], dtype='<U4')"
            ]
          },
          "metadata": {
            "tags": []
          },
          "execution_count": 845
        }
      ]
    },
    {
      "cell_type": "code",
      "metadata": {
        "id": "9lJ_CO9t0n6R",
        "colab_type": "code",
        "colab": {
          "base_uri": "https://localhost:8080/",
          "height": 35
        },
        "outputId": "2d20b2e7-403a-46c9-9344-1e0ef9ddca25"
      },
      "source": [
        "set(names)"
      ],
      "execution_count": 846,
      "outputs": [
        {
          "output_type": "execute_result",
          "data": {
            "text/plain": [
              "{'Bob', 'Joe', 'Will'}"
            ]
          },
          "metadata": {
            "tags": []
          },
          "execution_count": 846
        }
      ]
    },
    {
      "cell_type": "code",
      "metadata": {
        "id": "mFTKLDA70n3E",
        "colab_type": "code",
        "colab": {
          "base_uri": "https://localhost:8080/",
          "height": 35
        },
        "outputId": "bf7bacd2-64ee-4020-b8a9-6b7f652aaf4a"
      },
      "source": [
        "sorted(set(names))"
      ],
      "execution_count": 847,
      "outputs": [
        {
          "output_type": "execute_result",
          "data": {
            "text/plain": [
              "['Bob', 'Joe', 'Will']"
            ]
          },
          "metadata": {
            "tags": []
          },
          "execution_count": 847
        }
      ]
    },
    {
      "cell_type": "code",
      "metadata": {
        "id": "-Rgt37r60n0u",
        "colab_type": "code",
        "colab": {
          "base_uri": "https://localhost:8080/",
          "height": 35
        },
        "outputId": "8ca285ea-05a3-4795-c9dd-c311b808a964"
      },
      "source": [
        "values = np.array([6, 0, 0, 3, 2, 5, 6])\n",
        "np.in1d(values, [2, 3, 4])"
      ],
      "execution_count": 848,
      "outputs": [
        {
          "output_type": "execute_result",
          "data": {
            "text/plain": [
              "array([False, False, False,  True,  True, False, False])"
            ]
          },
          "metadata": {
            "tags": []
          },
          "execution_count": 848
        }
      ]
    },
    {
      "cell_type": "code",
      "metadata": {
        "id": "-rRA9ToW0nyp",
        "colab_type": "code",
        "colab": {
          "base_uri": "https://localhost:8080/",
          "height": 109
        },
        "outputId": "7dacb555-6d3a-43c0-a6d1-0ac43bc1e0ac"
      },
      "source": [
        "a"
      ],
      "execution_count": 849,
      "outputs": [
        {
          "output_type": "execute_result",
          "data": {
            "text/plain": [
              "array([[-1.40809845, -1.00479326,  0.21440769,  0.28958102],\n",
              "       [-2.41753489, -1.66671105, -0.4070215 ,  0.67154551],\n",
              "       [-1.70183853,  0.1816646 ,  0.54509843,  0.6361532 ],\n",
              "       [-1.18697005, -0.58141033,  0.33258396,  0.53073179],\n",
              "       [-0.76441877, -0.31204037, -0.18808012,  1.68296219]])"
            ]
          },
          "metadata": {
            "tags": []
          },
          "execution_count": 849
        }
      ]
    },
    {
      "cell_type": "code",
      "metadata": {
        "id": "P3oemu880nwG",
        "colab_type": "code",
        "colab": {}
      },
      "source": [
        "np.save('abc.npy' , a)"
      ],
      "execution_count": 0,
      "outputs": []
    },
    {
      "cell_type": "code",
      "metadata": {
        "id": "ZJnU2UdK0nta",
        "colab_type": "code",
        "colab": {
          "base_uri": "https://localhost:8080/",
          "height": 109
        },
        "outputId": "a6e43c50-de6d-4b6a-caad-810e8f823fa1"
      },
      "source": [
        "np.load('abc.npy')"
      ],
      "execution_count": 851,
      "outputs": [
        {
          "output_type": "execute_result",
          "data": {
            "text/plain": [
              "array([[-1.40809845, -1.00479326,  0.21440769,  0.28958102],\n",
              "       [-2.41753489, -1.66671105, -0.4070215 ,  0.67154551],\n",
              "       [-1.70183853,  0.1816646 ,  0.54509843,  0.6361532 ],\n",
              "       [-1.18697005, -0.58141033,  0.33258396,  0.53073179],\n",
              "       [-0.76441877, -0.31204037, -0.18808012,  1.68296219]])"
            ]
          },
          "metadata": {
            "tags": []
          },
          "execution_count": 851
        }
      ]
    },
    {
      "cell_type": "code",
      "metadata": {
        "id": "YozTJJmh0nq7",
        "colab_type": "code",
        "colab": {
          "base_uri": "https://localhost:8080/",
          "height": 109
        },
        "outputId": "26972e4c-b58b-4b44-cfa4-4ff718d9f1b8"
      },
      "source": [
        "a"
      ],
      "execution_count": 852,
      "outputs": [
        {
          "output_type": "execute_result",
          "data": {
            "text/plain": [
              "array([[-1.40809845, -1.00479326,  0.21440769,  0.28958102],\n",
              "       [-2.41753489, -1.66671105, -0.4070215 ,  0.67154551],\n",
              "       [-1.70183853,  0.1816646 ,  0.54509843,  0.6361532 ],\n",
              "       [-1.18697005, -0.58141033,  0.33258396,  0.53073179],\n",
              "       [-0.76441877, -0.31204037, -0.18808012,  1.68296219]])"
            ]
          },
          "metadata": {
            "tags": []
          },
          "execution_count": 852
        }
      ]
    },
    {
      "cell_type": "code",
      "metadata": {
        "id": "rPsFS3m40noP",
        "colab_type": "code",
        "colab": {
          "base_uri": "https://localhost:8080/",
          "height": 90
        },
        "outputId": "959c2c0a-4926-4d47-9515-5c224e668c74"
      },
      "source": [
        "arr"
      ],
      "execution_count": 853,
      "outputs": [
        {
          "output_type": "execute_result",
          "data": {
            "text/plain": [
              "array([[-1.56170765, -0.82977782, -0.52598743,  0.13075223],\n",
              "       [-0.66326352, -0.65829371, -0.28456563,  1.35200387],\n",
              "       [-2.78082659, -0.7029774 ,  1.30520611,  1.81321683],\n",
              "       [ 0.31067151,  0.84145173,  0.92483385,  2.62811645]])"
            ]
          },
          "metadata": {
            "tags": []
          },
          "execution_count": 853
        }
      ]
    },
    {
      "cell_type": "code",
      "metadata": {
        "id": "cZsXWrAJ0nlx",
        "colab_type": "code",
        "colab": {}
      },
      "source": [
        "#Save Multiple arrays"
      ],
      "execution_count": 0,
      "outputs": []
    },
    {
      "cell_type": "code",
      "metadata": {
        "id": "J1n6qcfz0niv",
        "colab_type": "code",
        "colab": {}
      },
      "source": [
        "np.savez('multiple_saved_array.npz' , a = a , b = arr)"
      ],
      "execution_count": 0,
      "outputs": []
    },
    {
      "cell_type": "code",
      "metadata": {
        "id": "AbWQd7KV0ngu",
        "colab_type": "code",
        "colab": {}
      },
      "source": [
        "unzipped = np.load('multiple_saved_array.npz')"
      ],
      "execution_count": 0,
      "outputs": []
    },
    {
      "cell_type": "code",
      "metadata": {
        "id": "Ym-nDdOU0nac",
        "colab_type": "code",
        "colab": {
          "base_uri": "https://localhost:8080/",
          "height": 35
        },
        "outputId": "3db5dcd1-d5d0-4a96-ac63-0de062e1b792"
      },
      "source": [
        "unzipped"
      ],
      "execution_count": 857,
      "outputs": [
        {
          "output_type": "execute_result",
          "data": {
            "text/plain": [
              "<numpy.lib.npyio.NpzFile at 0x7f0c5f93a1d0>"
            ]
          },
          "metadata": {
            "tags": []
          },
          "execution_count": 857
        }
      ]
    },
    {
      "cell_type": "code",
      "metadata": {
        "id": "HfnvQ-aB0nYW",
        "colab_type": "code",
        "colab": {
          "base_uri": "https://localhost:8080/",
          "height": 109
        },
        "outputId": "237edd05-95bf-4fbb-e850-13e7dfcbeb31"
      },
      "source": [
        "unzipped['a']"
      ],
      "execution_count": 858,
      "outputs": [
        {
          "output_type": "execute_result",
          "data": {
            "text/plain": [
              "array([[-1.40809845, -1.00479326,  0.21440769,  0.28958102],\n",
              "       [-2.41753489, -1.66671105, -0.4070215 ,  0.67154551],\n",
              "       [-1.70183853,  0.1816646 ,  0.54509843,  0.6361532 ],\n",
              "       [-1.18697005, -0.58141033,  0.33258396,  0.53073179],\n",
              "       [-0.76441877, -0.31204037, -0.18808012,  1.68296219]])"
            ]
          },
          "metadata": {
            "tags": []
          },
          "execution_count": 858
        }
      ]
    },
    {
      "cell_type": "code",
      "metadata": {
        "id": "QigvBfGG0nWA",
        "colab_type": "code",
        "colab": {
          "base_uri": "https://localhost:8080/",
          "height": 90
        },
        "outputId": "6aa242bf-36f2-49e9-f577-02fb92cc340a"
      },
      "source": [
        "unzipped['b']"
      ],
      "execution_count": 859,
      "outputs": [
        {
          "output_type": "execute_result",
          "data": {
            "text/plain": [
              "array([[-1.56170765, -0.82977782, -0.52598743,  0.13075223],\n",
              "       [-0.66326352, -0.65829371, -0.28456563,  1.35200387],\n",
              "       [-2.78082659, -0.7029774 ,  1.30520611,  1.81321683],\n",
              "       [ 0.31067151,  0.84145173,  0.92483385,  2.62811645]])"
            ]
          },
          "metadata": {
            "tags": []
          },
          "execution_count": 859
        }
      ]
    },
    {
      "cell_type": "code",
      "metadata": {
        "id": "b0YpqTc80nS9",
        "colab_type": "code",
        "colab": {
          "base_uri": "https://localhost:8080/",
          "height": 54
        },
        "outputId": "633f82df-0279-444c-9b07-cbba62f6a0da"
      },
      "source": [
        "x"
      ],
      "execution_count": 860,
      "outputs": [
        {
          "output_type": "execute_result",
          "data": {
            "text/plain": [
              "array([-0.97488001, -0.99663461,  1.4247115 ,  1.10317219,  1.95236275,\n",
              "       -0.59911127,  0.60774386, -0.50569599])"
            ]
          },
          "metadata": {
            "tags": []
          },
          "execution_count": 860
        }
      ]
    },
    {
      "cell_type": "code",
      "metadata": {
        "id": "7dMSOEKT47jm",
        "colab_type": "code",
        "colab": {
          "base_uri": "https://localhost:8080/",
          "height": 54
        },
        "outputId": "9ed2d6fc-02b2-4043-c201-506052462b86"
      },
      "source": [
        "y"
      ],
      "execution_count": 861,
      "outputs": [
        {
          "output_type": "execute_result",
          "data": {
            "text/plain": [
              "array([ 0.01843267,  1.17749583,  0.01066034,  0.01901771, -0.03294851,\n",
              "        0.36592899,  0.83050809, -0.60197802])"
            ]
          },
          "metadata": {
            "tags": []
          },
          "execution_count": 861
        }
      ]
    },
    {
      "cell_type": "code",
      "metadata": {
        "id": "QKKpWpea47f6",
        "colab_type": "code",
        "colab": {
          "base_uri": "https://localhost:8080/",
          "height": 35
        },
        "outputId": "89101026-2642-479a-ac69-905343b4b4cd"
      },
      "source": [
        "x.dot(y)"
      ],
      "execution_count": 862,
      "outputs": [
        {
          "output_type": "execute_result",
          "data": {
            "text/plain": [
              "-0.6297405917338744"
            ]
          },
          "metadata": {
            "tags": []
          },
          "execution_count": 862
        }
      ]
    },
    {
      "cell_type": "code",
      "metadata": {
        "id": "56RPI5iC47dM",
        "colab_type": "code",
        "colab": {
          "base_uri": "https://localhost:8080/",
          "height": 35
        },
        "outputId": "ee93b48b-ae85-45ce-e660-297f19a0e1aa"
      },
      "source": [
        "x @ y"
      ],
      "execution_count": 863,
      "outputs": [
        {
          "output_type": "execute_result",
          "data": {
            "text/plain": [
              "-0.6297405917338744"
            ]
          },
          "metadata": {
            "tags": []
          },
          "execution_count": 863
        }
      ]
    },
    {
      "cell_type": "code",
      "metadata": {
        "id": "GOhp8egQ47a6",
        "colab_type": "code",
        "colab": {}
      },
      "source": [
        "X = np.random.randn(5,5)"
      ],
      "execution_count": 0,
      "outputs": []
    },
    {
      "cell_type": "code",
      "metadata": {
        "id": "vZP28CgH47YO",
        "colab_type": "code",
        "colab": {
          "base_uri": "https://localhost:8080/",
          "height": 109
        },
        "outputId": "fb97a369-b8bd-430b-aa84-e17f4a88b837"
      },
      "source": [
        "X"
      ],
      "execution_count": 865,
      "outputs": [
        {
          "output_type": "execute_result",
          "data": {
            "text/plain": [
              "array([[-1.04159019, -1.08242957, -0.69932471, -0.99189058,  0.10225386],\n",
              "       [ 1.92800878,  0.09425575,  0.57653115,  0.14076821, -0.6800197 ],\n",
              "       [-0.09575536, -0.77451632, -0.0622988 , -0.87980648, -0.16224078],\n",
              "       [ 0.66622474,  0.04569537,  0.15804997, -0.61560241,  0.32080755],\n",
              "       [-0.98748682,  0.42668808,  0.15138549,  0.27374928,  0.22662932]])"
            ]
          },
          "metadata": {
            "tags": []
          },
          "execution_count": 865
        }
      ]
    },
    {
      "cell_type": "code",
      "metadata": {
        "id": "owD5bIWQ47T4",
        "colab_type": "code",
        "colab": {
          "base_uri": "https://localhost:8080/",
          "height": 201
        },
        "outputId": "8017c2e4-7373-4d5c-efa9-6ef1a80bf777"
      },
      "source": [
        "X @ (np.linalg.inv(X))"
      ],
      "execution_count": 866,
      "outputs": [
        {
          "output_type": "execute_result",
          "data": {
            "text/plain": [
              "array([[ 1.00000000e+00, -2.09129003e-18,  3.30785181e-17,\n",
              "         2.06205432e-17,  2.94760270e-16],\n",
              "       [-3.69183674e-17,  1.00000000e+00,  2.92241764e-16,\n",
              "        -3.32086739e-17,  2.29356053e-16],\n",
              "       [-1.38602984e-15, -1.17706073e-15,  1.00000000e+00,\n",
              "        -3.41759664e-16, -1.35206783e-15],\n",
              "       [ 7.34796681e-16,  5.48044994e-16,  6.58912843e-16,\n",
              "         1.00000000e+00,  8.02739653e-17],\n",
              "       [-1.18127994e-15, -1.06288688e-15,  1.39289639e-16,\n",
              "        -3.31403207e-16,  1.00000000e+00]])"
            ]
          },
          "metadata": {
            "tags": []
          },
          "execution_count": 866
        }
      ]
    },
    {
      "cell_type": "code",
      "metadata": {
        "id": "TqJE5Bqy47RH",
        "colab_type": "code",
        "colab": {
          "base_uri": "https://localhost:8080/",
          "height": 109
        },
        "outputId": "3db4e940-ee9f-4a78-e806-74eeebeae118"
      },
      "source": [
        "np.linalg.qr(X)[1]"
      ],
      "execution_count": 867,
      "outputs": [
        {
          "output_type": "execute_result",
          "data": {
            "text/plain": [
              "array([[ 2.49605343,  0.39760068,  0.72183469,  0.28378346, -0.56574056],\n",
              "       [ 0.        ,  1.3440528 ,  0.47942843,  1.2977074 ,  0.21366575],\n",
              "       [ 0.        ,  0.        , -0.3497496 ,  0.1522092 ,  0.17872225],\n",
              "       [ 0.        ,  0.        ,  0.        ,  0.6662446 , -0.50100305],\n",
              "       [ 0.        ,  0.        ,  0.        ,  0.        , -0.06943991]])"
            ]
          },
          "metadata": {
            "tags": []
          },
          "execution_count": 867
        }
      ]
    },
    {
      "cell_type": "code",
      "metadata": {
        "id": "1a7tcost47OK",
        "colab_type": "code",
        "colab": {
          "base_uri": "https://localhost:8080/",
          "height": 35
        },
        "outputId": "83ebb588-4cb7-4f94-ff49-8e71ea35292a"
      },
      "source": [
        "np.trace(X)"
      ],
      "execution_count": 868,
      "outputs": [
        {
          "output_type": "execute_result",
          "data": {
            "text/plain": [
              "-1.3986063350805469"
            ]
          },
          "metadata": {
            "tags": []
          },
          "execution_count": 868
        }
      ]
    },
    {
      "cell_type": "code",
      "metadata": {
        "id": "52QovrKp47L_",
        "colab_type": "code",
        "colab": {
          "base_uri": "https://localhost:8080/",
          "height": 35
        },
        "outputId": "d06e9e8d-0e54-45a8-f406-b1d17506bca3"
      },
      "source": [
        "np.diag(X)"
      ],
      "execution_count": 869,
      "outputs": [
        {
          "output_type": "execute_result",
          "data": {
            "text/plain": [
              "array([-1.04159019,  0.09425575, -0.0622988 , -0.61560241,  0.22662932])"
            ]
          },
          "metadata": {
            "tags": []
          },
          "execution_count": 869
        }
      ]
    },
    {
      "cell_type": "code",
      "metadata": {
        "id": "4CuKW2Ja47JJ",
        "colab_type": "code",
        "colab": {
          "base_uri": "https://localhost:8080/",
          "height": 348
        },
        "outputId": "bf0b9c05-140b-44d9-e59e-f40b74589297"
      },
      "source": [
        "np.linalg.eig(X)"
      ],
      "execution_count": 870,
      "outputs": [
        {
          "output_type": "execute_result",
          "data": {
            "text/plain": [
              "(array([-0.57321968+1.7582729j , -0.57321968-1.7582729j ,\n",
              "         0.11687808+0.j        , -0.18452253+0.31898406j,\n",
              "        -0.18452253-0.31898406j]),\n",
              " array([[-0.34084649+0.40952612j, -0.34084649-0.40952612j,\n",
              "         -0.02033021+0.j        ,  0.17537997-0.0050846j ,\n",
              "          0.17537997+0.0050846j ],\n",
              "        [ 0.65773207+0.j        ,  0.65773207-0.j        ,\n",
              "         -0.5697293 +0.j        , -0.62306981+0.j        ,\n",
              "         -0.62306981-0.j        ],\n",
              "        [ 0.00653886+0.31025544j,  0.00653886-0.31025544j,\n",
              "          0.57453583+0.j        ,  0.10154757+0.09833704j,\n",
              "          0.10154757-0.09833704j],\n",
              "        [ 0.13489509+0.16714125j,  0.13489509-0.16714125j,\n",
              "          0.29288321+0.j        ,  0.49963717-0.08593423j,\n",
              "          0.49963717+0.08593423j],\n",
              "        [-0.28730966-0.24190831j, -0.28730966+0.24190831j,\n",
              "          0.50904147+0.j        ,  0.43133186+0.34343672j,\n",
              "          0.43133186-0.34343672j]]))"
            ]
          },
          "metadata": {
            "tags": []
          },
          "execution_count": 870
        }
      ]
    },
    {
      "cell_type": "code",
      "metadata": {
        "id": "9yz0hy7G47Fx",
        "colab_type": "code",
        "colab": {
          "base_uri": "https://localhost:8080/",
          "height": 109
        },
        "outputId": "514fa29d-f74f-4d95-f7b3-39b82682922d"
      },
      "source": [
        "np.linalg.inv(X)"
      ],
      "execution_count": 871,
      "outputs": [
        {
          "output_type": "execute_result",
          "data": {
            "text/plain": [
              "array([[-0.65847297, -0.49244449,  0.19843255,  0.12456367, -1.21479282],\n",
              "       [ 9.37389928,  7.54725408, -9.03745694,  2.97694062,  7.7328698 ],\n",
              "       [-7.41481838, -4.98268447,  7.57079552, -1.69557815, -3.78540511],\n",
              "       [-6.15645139, -4.93452474,  5.01383827, -2.30240837, -5.18015111],\n",
              "       [-8.12844712, -7.06650446,  6.76647444, -1.14835777, -6.65402539]])"
            ]
          },
          "metadata": {
            "tags": []
          },
          "execution_count": 871
        }
      ]
    },
    {
      "cell_type": "code",
      "metadata": {
        "id": "NYA8agvu47Dt",
        "colab_type": "code",
        "colab": {
          "base_uri": "https://localhost:8080/",
          "height": 109
        },
        "outputId": "320fe60e-dba2-4069-b42e-699946c884cc"
      },
      "source": [
        "np.linalg.pinv(X)"
      ],
      "execution_count": 872,
      "outputs": [
        {
          "output_type": "execute_result",
          "data": {
            "text/plain": [
              "array([[-0.65847297, -0.49244449,  0.19843255,  0.12456367, -1.21479282],\n",
              "       [ 9.37389928,  7.54725408, -9.03745694,  2.97694062,  7.7328698 ],\n",
              "       [-7.41481838, -4.98268447,  7.57079552, -1.69557815, -3.78540511],\n",
              "       [-6.15645139, -4.93452474,  5.01383827, -2.30240837, -5.18015111],\n",
              "       [-8.12844712, -7.06650446,  6.76647444, -1.14835777, -6.65402539]])"
            ]
          },
          "metadata": {
            "tags": []
          },
          "execution_count": 872
        }
      ]
    },
    {
      "cell_type": "code",
      "metadata": {
        "id": "Ipr6d5O-47Ba",
        "colab_type": "code",
        "colab": {
          "base_uri": "https://localhost:8080/",
          "height": 201
        },
        "outputId": "e9b0fff9-2712-4f5c-edfe-83b89bb72a43"
      },
      "source": [
        "np.linalg.qr(X)"
      ],
      "execution_count": 873,
      "outputs": [
        {
          "output_type": "execute_result",
          "data": {
            "text/plain": [
              "(array([[-0.41729483, -0.68190242,  0.20352681, -0.02932563,  0.56443862],\n",
              "        [ 0.77242288, -0.15837184, -0.27132978,  0.25273987,  0.49069742],\n",
              "        [-0.0383627 , -0.56490585, -0.67541081, -0.04958171, -0.46986336],\n",
              "        [ 0.26691125, -0.04496009,  0.03734295, -0.95863638,  0.07974186],\n",
              "        [-0.39561926,  0.43449675, -0.65374516, -0.11756063,  0.46205491]]),\n",
              " array([[ 2.49605343,  0.39760068,  0.72183469,  0.28378346, -0.56574056],\n",
              "        [ 0.        ,  1.3440528 ,  0.47942843,  1.2977074 ,  0.21366575],\n",
              "        [ 0.        ,  0.        , -0.3497496 ,  0.1522092 ,  0.17872225],\n",
              "        [ 0.        ,  0.        ,  0.        ,  0.6662446 , -0.50100305],\n",
              "        [ 0.        ,  0.        ,  0.        ,  0.        , -0.06943991]]))"
            ]
          },
          "metadata": {
            "tags": []
          },
          "execution_count": 873
        }
      ]
    },
    {
      "cell_type": "code",
      "metadata": {
        "id": "guiZy5G446_B",
        "colab_type": "code",
        "colab": {
          "base_uri": "https://localhost:8080/",
          "height": 219
        },
        "outputId": "dd956aee-ee39-48f7-ed57-bb65f4609e29"
      },
      "source": [
        "np.linalg.svd(X)"
      ],
      "execution_count": 874,
      "outputs": [
        {
          "output_type": "execute_result",
          "data": {
            "text/plain": [
              "(array([[-0.60213197, -0.50889687, -0.17472485,  0.16517979,  0.56625784],\n",
              "        [ 0.72555159, -0.34617908, -0.28551854, -0.26480067,  0.44954944],\n",
              "        [-0.1824721 , -0.55378396, -0.03048919, -0.62426821, -0.51902493],\n",
              "        [ 0.14865304, -0.30938778,  0.92548294,  0.06353999,  0.14705601],\n",
              "        [-0.23583509,  0.46774625,  0.17464857, -0.71333591,  0.43156114]]),\n",
              " array([2.77716373, 1.88797718, 0.71714632, 0.40060585, 0.03603686]),\n",
              " array([[ 0.85534663,  0.27641338,  0.30194448,  0.25344307, -0.1912431 ],\n",
              "        [-0.39850142,  0.59988783,  0.11266687,  0.66831675,  0.14829064],\n",
              "        [ 0.10952495,  0.4220069 ,  0.18432825, -0.5047492 ,  0.72191814],\n",
              "        [ 0.30935913, -0.05421041, -0.81685078,  0.28389216,  0.391814  ],\n",
              "        [-0.04335864,  0.61862884, -0.44149022, -0.39211328, -0.51648035]]))"
            ]
          },
          "metadata": {
            "tags": []
          },
          "execution_count": 874
        }
      ]
    },
    {
      "cell_type": "code",
      "metadata": {
        "id": "uKYo30-l468Y",
        "colab_type": "code",
        "colab": {
          "base_uri": "https://localhost:8080/",
          "height": 35
        },
        "outputId": "b4474207-2d76-4990-f68b-061e782eb978"
      },
      "source": [
        "# Solve the system of equations 3 * x0 + x1 = 9 and x0 + 2 * x1 = 8:\n",
        "\n",
        "a = np.array([[3,1], [1,2]])\n",
        "b = np.array([9,8])\n",
        "np.linalg.solve(a, b)"
      ],
      "execution_count": 875,
      "outputs": [
        {
          "output_type": "execute_result",
          "data": {
            "text/plain": [
              "array([2., 3.])"
            ]
          },
          "metadata": {
            "tags": []
          },
          "execution_count": 875
        }
      ]
    },
    {
      "cell_type": "code",
      "metadata": {
        "id": "YNa-Ap_i465N",
        "colab_type": "code",
        "colab": {
          "base_uri": "https://localhost:8080/",
          "height": 54
        },
        "outputId": "41c2512f-93ca-40c0-fab7-3664b47dd2b2"
      },
      "source": [
        "a"
      ],
      "execution_count": 876,
      "outputs": [
        {
          "output_type": "execute_result",
          "data": {
            "text/plain": [
              "array([[3, 1],\n",
              "       [1, 2]])"
            ]
          },
          "metadata": {
            "tags": []
          },
          "execution_count": 876
        }
      ]
    },
    {
      "cell_type": "code",
      "metadata": {
        "id": "dQRCp_bQ462c",
        "colab_type": "code",
        "colab": {
          "base_uri": "https://localhost:8080/",
          "height": 35
        },
        "outputId": "5e146ecb-36d8-4340-9c8d-112997859662"
      },
      "source": [
        "b"
      ],
      "execution_count": 877,
      "outputs": [
        {
          "output_type": "execute_result",
          "data": {
            "text/plain": [
              "array([9, 8])"
            ]
          },
          "metadata": {
            "tags": []
          },
          "execution_count": 877
        }
      ]
    },
    {
      "cell_type": "code",
      "metadata": {
        "id": "bsur-HLJ46vX",
        "colab_type": "code",
        "colab": {
          "base_uri": "https://localhost:8080/",
          "height": 35
        },
        "outputId": "ffc7c503-9493-454b-a44d-d65362b38923"
      },
      "source": [
        "np.random.permutation(5)"
      ],
      "execution_count": 878,
      "outputs": [
        {
          "output_type": "execute_result",
          "data": {
            "text/plain": [
              "array([1, 0, 2, 3, 4])"
            ]
          },
          "metadata": {
            "tags": []
          },
          "execution_count": 878
        }
      ]
    },
    {
      "cell_type": "code",
      "metadata": {
        "id": "Oir30R8F46tB",
        "colab_type": "code",
        "colab": {
          "base_uri": "https://localhost:8080/",
          "height": 35
        },
        "outputId": "30753664-94ae-4c8e-86f4-1b662fbdacc8"
      },
      "source": [
        "np.random.binomial(0.5 , 0.8)"
      ],
      "execution_count": 879,
      "outputs": [
        {
          "output_type": "execute_result",
          "data": {
            "text/plain": [
              "0"
            ]
          },
          "metadata": {
            "tags": []
          },
          "execution_count": 879
        }
      ]
    },
    {
      "cell_type": "code",
      "metadata": {
        "id": "h3mu9nJn46p5",
        "colab_type": "code",
        "colab": {
          "base_uri": "https://localhost:8080/",
          "height": 35
        },
        "outputId": "10ba7555-f314-466f-aca3-26ca92988109"
      },
      "source": [
        "np.random.chisquare(5 , 5)"
      ],
      "execution_count": 880,
      "outputs": [
        {
          "output_type": "execute_result",
          "data": {
            "text/plain": [
              "array([9.08460499, 4.3347815 , 9.55410827, 4.91284654, 6.46474258])"
            ]
          },
          "metadata": {
            "tags": []
          },
          "execution_count": 880
        }
      ]
    },
    {
      "cell_type": "markdown",
      "metadata": {
        "id": "jHQb7xpUEfc0",
        "colab_type": "text"
      },
      "source": [
        "**Random Walk Generator**"
      ]
    },
    {
      "cell_type": "code",
      "metadata": {
        "id": "VIyNwF5E46nh",
        "colab_type": "code",
        "colab": {}
      },
      "source": [
        "import random\n",
        "position = 0\n",
        "walk = [position]\n",
        "steps = 1000\n",
        "for i in range(steps):\n",
        "    step = 1 if random.randint(0, 1) else -1\n",
        "    position += step\n",
        "    walk.append(position)"
      ],
      "execution_count": 0,
      "outputs": []
    },
    {
      "cell_type": "code",
      "metadata": {
        "id": "z2aciD2P46k6",
        "colab_type": "code",
        "colab": {
          "base_uri": "https://localhost:8080/",
          "height": 54
        },
        "outputId": "873f21a5-1004-4d23-820c-eebdcb31c429"
      },
      "source": [
        "plt.figure()"
      ],
      "execution_count": 882,
      "outputs": [
        {
          "output_type": "execute_result",
          "data": {
            "text/plain": [
              "<Figure size 432x288 with 0 Axes>"
            ]
          },
          "metadata": {
            "tags": []
          },
          "execution_count": 882
        },
        {
          "output_type": "display_data",
          "data": {
            "text/plain": [
              "<Figure size 432x288 with 0 Axes>"
            ]
          },
          "metadata": {
            "tags": []
          }
        }
      ]
    },
    {
      "cell_type": "code",
      "metadata": {
        "id": "FEj7gwfI46bX",
        "colab_type": "code",
        "colab": {
          "base_uri": "https://localhost:8080/",
          "height": 287
        },
        "outputId": "79b9b571-fc31-4175-f195-fa3fa1f1c743"
      },
      "source": [
        "plt.plot(walk[:100])"
      ],
      "execution_count": 883,
      "outputs": [
        {
          "output_type": "execute_result",
          "data": {
            "text/plain": [
              "[<matplotlib.lines.Line2D at 0x7f0c55db5dd8>]"
            ]
          },
          "metadata": {
            "tags": []
          },
          "execution_count": 883
        },
        {
          "output_type": "display_data",
          "data": {
            "image/png": "[encoded data removed]",
            "text/plain": [
              "<Figure size 432x288 with 1 Axes>"
            ]
          },
          "metadata": {
            "tags": []
          }
        }
      ]
    },
    {
      "cell_type": "code",
      "metadata": {
        "id": "VDdhSK9146YT",
        "colab_type": "code",
        "colab": {}
      },
      "source": [
        "np.random.seed(12345)"
      ],
      "execution_count": 0,
      "outputs": []
    },
    {
      "cell_type": "code",
      "metadata": {
        "id": "fUfCEbXy46Vk",
        "colab_type": "code",
        "colab": {}
      },
      "source": [
        "nsteps = 1000\n",
        "draws = np.random.randint(0, 2, size=nsteps)\n",
        "steps = np.where(draws > 0, 1, -1)\n",
        "walk = steps.cumsum()"
      ],
      "execution_count": 0,
      "outputs": []
    },
    {
      "cell_type": "code",
      "metadata": {
        "id": "JapXkwd2E8Jw",
        "colab_type": "code",
        "colab": {
          "base_uri": "https://localhost:8080/",
          "height": 35
        },
        "outputId": "d001e0ec-3cd5-4b47-d845-f536eda7e263"
      },
      "source": [
        "walk.min()"
      ],
      "execution_count": 886,
      "outputs": [
        {
          "output_type": "execute_result",
          "data": {
            "text/plain": [
              "-3"
            ]
          },
          "metadata": {
            "tags": []
          },
          "execution_count": 886
        }
      ]
    },
    {
      "cell_type": "code",
      "metadata": {
        "id": "TsdNqhKM46Rs",
        "colab_type": "code",
        "colab": {
          "base_uri": "https://localhost:8080/",
          "height": 35
        },
        "outputId": "354ce65d-671b-4fb5-da9d-3e1bfa15d4cd"
      },
      "source": [
        "walk.max()"
      ],
      "execution_count": 887,
      "outputs": [
        {
          "output_type": "execute_result",
          "data": {
            "text/plain": [
              "31"
            ]
          },
          "metadata": {
            "tags": []
          },
          "execution_count": 887
        }
      ]
    },
    {
      "cell_type": "code",
      "metadata": {
        "id": "ct35Z2-Z0nKd",
        "colab_type": "code",
        "colab": {
          "base_uri": "https://localhost:8080/",
          "height": 35
        },
        "outputId": "86f6a007-d2ba-4df1-d580-bc0bed78d474"
      },
      "source": [
        "(np.abs(walk) >= 10).argmax()\n",
        "\n",
        "#Nos that hit 10 or -10"
      ],
      "execution_count": 888,
      "outputs": [
        {
          "output_type": "execute_result",
          "data": {
            "text/plain": [
              "37"
            ]
          },
          "metadata": {
            "tags": []
          },
          "execution_count": 888
        }
      ]
    },
    {
      "cell_type": "code",
      "metadata": {
        "id": "Agc1uciaFHlA",
        "colab_type": "code",
        "colab": {}
      },
      "source": [
        "# Simulating many Random Walks"
      ],
      "execution_count": 0,
      "outputs": []
    },
    {
      "cell_type": "code",
      "metadata": {
        "id": "Y7RtsnjDFHic",
        "colab_type": "code",
        "colab": {}
      },
      "source": [
        "nwalks = 5000"
      ],
      "execution_count": 0,
      "outputs": []
    },
    {
      "cell_type": "code",
      "metadata": {
        "id": "XLYPOjmOFHf0",
        "colab_type": "code",
        "colab": {}
      },
      "source": [
        "nsteps = 1000"
      ],
      "execution_count": 0,
      "outputs": []
    },
    {
      "cell_type": "code",
      "metadata": {
        "id": "-AQ4TU4FFHc-",
        "colab_type": "code",
        "colab": {}
      },
      "source": [
        "draws = np.random.randint(0 , 2 , size = (nwalks , nsteps))"
      ],
      "execution_count": 0,
      "outputs": []
    },
    {
      "cell_type": "code",
      "metadata": {
        "id": "WU5wZmLoFHaj",
        "colab_type": "code",
        "colab": {
          "base_uri": "https://localhost:8080/",
          "height": 146
        },
        "outputId": "6ebf039d-1bb4-4c49-9d1f-86742ce7540d"
      },
      "source": [
        "draws"
      ],
      "execution_count": 893,
      "outputs": [
        {
          "output_type": "execute_result",
          "data": {
            "text/plain": [
              "array([[1, 0, 1, ..., 1, 0, 1],\n",
              "       [1, 0, 0, ..., 0, 0, 0],\n",
              "       [1, 0, 0, ..., 1, 1, 0],\n",
              "       ...,\n",
              "       [1, 1, 0, ..., 0, 1, 1],\n",
              "       [1, 1, 1, ..., 0, 0, 1],\n",
              "       [0, 0, 0, ..., 0, 1, 1]])"
            ]
          },
          "metadata": {
            "tags": []
          },
          "execution_count": 893
        }
      ]
    },
    {
      "cell_type": "code",
      "metadata": {
        "id": "Zn2Kj282FHX-",
        "colab_type": "code",
        "colab": {
          "base_uri": "https://localhost:8080/",
          "height": 35
        },
        "outputId": "be3b9d70-623b-4b3b-e103-84e8424f9b18"
      },
      "source": [
        "draws.shape"
      ],
      "execution_count": 894,
      "outputs": [
        {
          "output_type": "execute_result",
          "data": {
            "text/plain": [
              "(5000, 1000)"
            ]
          },
          "metadata": {
            "tags": []
          },
          "execution_count": 894
        }
      ]
    },
    {
      "cell_type": "code",
      "metadata": {
        "id": "XDdCz86hFHUt",
        "colab_type": "code",
        "colab": {}
      },
      "source": [
        "steps = np.where(draws > 0 , 1 , -1)"
      ],
      "execution_count": 0,
      "outputs": []
    },
    {
      "cell_type": "code",
      "metadata": {
        "id": "J4cL_e18FHR9",
        "colab_type": "code",
        "colab": {
          "base_uri": "https://localhost:8080/",
          "height": 146
        },
        "outputId": "4594d460-53d2-46e9-d73c-f4ecf997b059"
      },
      "source": [
        "steps"
      ],
      "execution_count": 896,
      "outputs": [
        {
          "output_type": "execute_result",
          "data": {
            "text/plain": [
              "array([[ 1, -1,  1, ...,  1, -1,  1],\n",
              "       [ 1, -1, -1, ..., -1, -1, -1],\n",
              "       [ 1, -1, -1, ...,  1,  1, -1],\n",
              "       ...,\n",
              "       [ 1,  1, -1, ..., -1,  1,  1],\n",
              "       [ 1,  1,  1, ..., -1, -1,  1],\n",
              "       [-1, -1, -1, ..., -1,  1,  1]])"
            ]
          },
          "metadata": {
            "tags": []
          },
          "execution_count": 896
        }
      ]
    },
    {
      "cell_type": "code",
      "metadata": {
        "id": "411rOgVxFHPg",
        "colab_type": "code",
        "colab": {}
      },
      "source": [
        "walks = steps.cumsum(1)"
      ],
      "execution_count": 0,
      "outputs": []
    },
    {
      "cell_type": "code",
      "metadata": {
        "id": "rLAud0W6FHM_",
        "colab_type": "code",
        "colab": {
          "base_uri": "https://localhost:8080/",
          "height": 146
        },
        "outputId": "3a83deff-07f2-44b8-e7e5-600e8989178c"
      },
      "source": [
        "walks"
      ],
      "execution_count": 898,
      "outputs": [
        {
          "output_type": "execute_result",
          "data": {
            "text/plain": [
              "array([[  1,   0,   1, ...,   8,   7,   8],\n",
              "       [  1,   0,  -1, ...,  34,  33,  32],\n",
              "       [  1,   0,  -1, ...,   4,   5,   4],\n",
              "       ...,\n",
              "       [  1,   2,   1, ...,  24,  25,  26],\n",
              "       [  1,   2,   3, ...,  14,  13,  14],\n",
              "       [ -1,  -2,  -3, ..., -24, -23, -22]])"
            ]
          },
          "metadata": {
            "tags": []
          },
          "execution_count": 898
        }
      ]
    },
    {
      "cell_type": "code",
      "metadata": {
        "id": "MIT0E-MvFHKn",
        "colab_type": "code",
        "colab": {
          "base_uri": "https://localhost:8080/",
          "height": 35
        },
        "outputId": "f180e65b-f4db-4e5a-a599-b9fcdb8280ee"
      },
      "source": [
        "walks.max()"
      ],
      "execution_count": 899,
      "outputs": [
        {
          "output_type": "execute_result",
          "data": {
            "text/plain": [
              "138"
            ]
          },
          "metadata": {
            "tags": []
          },
          "execution_count": 899
        }
      ]
    },
    {
      "cell_type": "code",
      "metadata": {
        "id": "VR6CVdxaFHIT",
        "colab_type": "code",
        "colab": {
          "base_uri": "https://localhost:8080/",
          "height": 35
        },
        "outputId": "f4735fd2-02db-4ebb-bad0-d3c4195c365f"
      },
      "source": [
        "walks.min()"
      ],
      "execution_count": 900,
      "outputs": [
        {
          "output_type": "execute_result",
          "data": {
            "text/plain": [
              "-133"
            ]
          },
          "metadata": {
            "tags": []
          },
          "execution_count": 900
        }
      ]
    },
    {
      "cell_type": "code",
      "metadata": {
        "id": "gQaqbQbWFHFp",
        "colab_type": "code",
        "colab": {}
      },
      "source": [
        "#The above is the max and min of all 5000 walks of 1000 steps each"
      ],
      "execution_count": 0,
      "outputs": []
    },
    {
      "cell_type": "code",
      "metadata": {
        "id": "Rws_E_c2FHDU",
        "colab_type": "code",
        "colab": {}
      },
      "source": [
        "# Now let's find how many times it crosses over -33 and +33"
      ],
      "execution_count": 0,
      "outputs": []
    },
    {
      "cell_type": "code",
      "metadata": {
        "id": "hb-H5eBiIQqG",
        "colab_type": "code",
        "colab": {
          "base_uri": "https://localhost:8080/",
          "height": 146
        },
        "outputId": "327a3aee-8faf-4e62-a8af-ee83ab2778ed"
      },
      "source": [
        "(np.abs(walks) >= 33)"
      ],
      "execution_count": 903,
      "outputs": [
        {
          "output_type": "execute_result",
          "data": {
            "text/plain": [
              "array([[False, False, False, ..., False, False, False],\n",
              "       [False, False, False, ...,  True,  True, False],\n",
              "       [False, False, False, ..., False, False, False],\n",
              "       ...,\n",
              "       [False, False, False, ..., False, False, False],\n",
              "       [False, False, False, ..., False, False, False],\n",
              "       [False, False, False, ..., False, False, False]])"
            ]
          },
          "metadata": {
            "tags": []
          },
          "execution_count": 903
        }
      ]
    },
    {
      "cell_type": "code",
      "metadata": {
        "id": "jEQfeqSgFHAy",
        "colab_type": "code",
        "colab": {}
      },
      "source": [
        "hits33 = (np.abs(walks) >= 33).any(1)"
      ],
      "execution_count": 0,
      "outputs": []
    },
    {
      "cell_type": "code",
      "metadata": {
        "id": "bWJIEc7oFG8m",
        "colab_type": "code",
        "colab": {
          "base_uri": "https://localhost:8080/",
          "height": 35
        },
        "outputId": "adeff915-f985-4b54-e3cf-e35a90a649e8"
      },
      "source": [
        "hits33"
      ],
      "execution_count": 905,
      "outputs": [
        {
          "output_type": "execute_result",
          "data": {
            "text/plain": [
              "array([False,  True, False, ..., False,  True, False])"
            ]
          },
          "metadata": {
            "tags": []
          },
          "execution_count": 905
        }
      ]
    },
    {
      "cell_type": "code",
      "metadata": {
        "id": "5uqJ3LEJFG5x",
        "colab_type": "code",
        "colab": {
          "base_uri": "https://localhost:8080/",
          "height": 35
        },
        "outputId": "14f2115e-d400-49f7-c674-11861d14e397"
      },
      "source": [
        "hits33.shape"
      ],
      "execution_count": 906,
      "outputs": [
        {
          "output_type": "execute_result",
          "data": {
            "text/plain": [
              "(5000,)"
            ]
          },
          "metadata": {
            "tags": []
          },
          "execution_count": 906
        }
      ]
    },
    {
      "cell_type": "code",
      "metadata": {
        "id": "3ClSh9QYFG3f",
        "colab_type": "code",
        "colab": {}
      },
      "source": [
        "# No that hit 33 or -33"
      ],
      "execution_count": 0,
      "outputs": []
    },
    {
      "cell_type": "code",
      "metadata": {
        "id": "DYeAAnDAFG1J",
        "colab_type": "code",
        "colab": {
          "base_uri": "https://localhost:8080/",
          "height": 35
        },
        "outputId": "5e876de8-9e85-4d1f-daa1-eb19364f894c"
      },
      "source": [
        "hits33.sum()"
      ],
      "execution_count": 908,
      "outputs": [
        {
          "output_type": "execute_result",
          "data": {
            "text/plain": [
              "2988"
            ]
          },
          "metadata": {
            "tags": []
          },
          "execution_count": 908
        }
      ]
    },
    {
      "cell_type": "code",
      "metadata": {
        "id": "70edSbyRFGyq",
        "colab_type": "code",
        "colab": {}
      },
      "source": [
        "crossing_times = (np.abs(walks[hits33]) >= 33).argmax(1)"
      ],
      "execution_count": 0,
      "outputs": []
    },
    {
      "cell_type": "code",
      "metadata": {
        "id": "vauXw25sFGwR",
        "colab_type": "code",
        "colab": {
          "base_uri": "https://localhost:8080/",
          "height": 35
        },
        "outputId": "af574664-6983-46b4-d4c8-e8cce7604490"
      },
      "source": [
        "crossing_times"
      ],
      "execution_count": 910,
      "outputs": [
        {
          "output_type": "execute_result",
          "data": {
            "text/plain": [
              "array([758, 490, 362, ..., 336, 480, 478])"
            ]
          },
          "metadata": {
            "tags": []
          },
          "execution_count": 910
        }
      ]
    },
    {
      "cell_type": "code",
      "metadata": {
        "id": "OBKp4fJeFGtp",
        "colab_type": "code",
        "colab": {
          "base_uri": "https://localhost:8080/",
          "height": 35
        },
        "outputId": "5748b70d-12f2-4441-89c2-5bcc4a310d2c"
      },
      "source": [
        "#No of times it crossed 33 or -33\n",
        "\n",
        "crossing_times.mean()"
      ],
      "execution_count": 911,
      "outputs": [
        {
          "output_type": "execute_result",
          "data": {
            "text/plain": [
              "533.7248995983936"
            ]
          },
          "metadata": {
            "tags": []
          },
          "execution_count": 911
        }
      ]
    },
    {
      "cell_type": "code",
      "metadata": {
        "id": "17RtaDkgFGrV",
        "colab_type": "code",
        "colab": {}
      },
      "source": [
        "# TO do the same experiment on different step size Try this\n",
        "\n",
        "steps = np.random.normal(loc = 0 , scale = 0.25 , size = (nwalks , nsteps))"
      ],
      "execution_count": 0,
      "outputs": []
    },
    {
      "cell_type": "code",
      "metadata": {
        "id": "FnyTqBXtFGoF",
        "colab_type": "code",
        "colab": {
          "base_uri": "https://localhost:8080/",
          "height": 256
        },
        "outputId": "db675359-d2f6-4f10-b654-7b7a48ddd8d7"
      },
      "source": [
        "steps"
      ],
      "execution_count": 913,
      "outputs": [
        {
          "output_type": "execute_result",
          "data": {
            "text/plain": [
              "array([[-0.02565707,  0.36310961,  0.41720151, ...,  0.15726638,\n",
              "        -0.16256773,  0.05423703],\n",
              "       [-0.10456259,  0.07877516,  0.19110411, ...,  0.07678875,\n",
              "        -0.18545695,  0.0333151 ],\n",
              "       [-0.16728617,  0.12034941, -0.30427248, ..., -0.30982359,\n",
              "        -0.17291787,  0.02772071],\n",
              "       ...,\n",
              "       [ 0.27987403,  0.05477886, -0.02167382, ...,  0.02795479,\n",
              "         0.25268149,  0.06510672],\n",
              "       [ 0.31853634, -0.15109745, -0.1121375 , ...,  0.14705719,\n",
              "         0.18206871, -0.02473096],\n",
              "       [-0.13101904, -0.24008233, -0.03925202, ..., -0.18320903,\n",
              "        -0.20967376,  0.20705573]])"
            ]
          },
          "metadata": {
            "tags": []
          },
          "execution_count": 913
        }
      ]
    }
  ]
}