{
  "nbformat": 4,
  "nbformat_minor": 0,
  "metadata": {
    "colab": {
      "name": "Chapter5_Pandas.ipynb",
      "provenance": [],
      "collapsed_sections": [],
      "include_colab_link": true
    },
    "kernelspec": {
      "name": "python3",
      "display_name": "Python 3"
    }
  },
  "cells": [
    {
      "cell_type": "markdown",
      "metadata": {
        "id": "view-in-github",
        "colab_type": "text"
      },
      "source": [
        "<a href=\"https://colab.research.google.com/github/TheMLEngineer/Data-Analysis-Book-wes-mckinney-/blob/master/Chapter5_Pandas.ipynb\" target=\"_parent\"><img src=\"https://colab.research.google.com/assets/colab-badge.svg\" alt=\"Open In Colab\"/></a>"
      ]
    },
    {
      "cell_type": "code",
      "metadata": {
        "id": "4fHsbETxcQ3f",
        "colab_type": "code",
        "colab": {}
      },
      "source": [
        "import numpy as np\n",
        "import pandas as pd"
      ],
      "execution_count": 0,
      "outputs": []
    },
    {
      "cell_type": "code",
      "metadata": {
        "id": "cQURpEKrcuiU",
        "colab_type": "code",
        "colab": {}
      },
      "source": [
        "from pandas import Series , DataFrame"
      ],
      "execution_count": 0,
      "outputs": []
    },
    {
      "cell_type": "code",
      "metadata": {
        "id": "X8FLfvehcunl",
        "colab_type": "code",
        "colab": {}
      },
      "source": [
        "a = Series([3 , -6, 354,76])"
      ],
      "execution_count": 0,
      "outputs": []
    },
    {
      "cell_type": "code",
      "metadata": {
        "id": "VwxV990ScurC",
        "colab_type": "code",
        "outputId": "8689f18c-ef0c-4e6a-ab5d-30c3453934ce",
        "colab": {
          "base_uri": "https://localhost:8080/",
          "height": 104
        }
      },
      "source": [
        "a"
      ],
      "execution_count": 4,
      "outputs": [
        {
          "output_type": "execute_result",
          "data": {
            "text/plain": [
              "0      3\n",
              "1     -6\n",
              "2    354\n",
              "3     76\n",
              "dtype: int64"
            ]
          },
          "metadata": {
            "tags": []
          },
          "execution_count": 4
        }
      ]
    },
    {
      "cell_type": "code",
      "metadata": {
        "id": "JDB1RrF3cuuF",
        "colab_type": "code",
        "outputId": "87a6ea5f-69e5-410e-8f95-0093c4c937f6",
        "colab": {
          "base_uri": "https://localhost:8080/",
          "height": 34
        }
      },
      "source": [
        "a.values"
      ],
      "execution_count": 5,
      "outputs": [
        {
          "output_type": "execute_result",
          "data": {
            "text/plain": [
              "array([  3,  -6, 354,  76])"
            ]
          },
          "metadata": {
            "tags": []
          },
          "execution_count": 5
        }
      ]
    },
    {
      "cell_type": "code",
      "metadata": {
        "id": "kSDrrty1cuzD",
        "colab_type": "code",
        "outputId": "a54a21ce-3c74-401f-ba64-5323d74ed760",
        "colab": {
          "base_uri": "https://localhost:8080/",
          "height": 34
        }
      },
      "source": [
        "a.index"
      ],
      "execution_count": 6,
      "outputs": [
        {
          "output_type": "execute_result",
          "data": {
            "text/plain": [
              "RangeIndex(start=0, stop=4, step=1)"
            ]
          },
          "metadata": {
            "tags": []
          },
          "execution_count": 6
        }
      ]
    },
    {
      "cell_type": "code",
      "metadata": {
        "id": "ixdCwunTcu2D",
        "colab_type": "code",
        "colab": {}
      },
      "source": [
        "b = Series([4,7,3,1] , index = ['g' , 'h' , 'q' , 't'])"
      ],
      "execution_count": 0,
      "outputs": []
    },
    {
      "cell_type": "code",
      "metadata": {
        "id": "_lpesjkEcu7X",
        "colab_type": "code",
        "outputId": "d88ae75f-1a90-4cd8-b062-f691d38e452b",
        "colab": {
          "base_uri": "https://localhost:8080/",
          "height": 104
        }
      },
      "source": [
        "b"
      ],
      "execution_count": 8,
      "outputs": [
        {
          "output_type": "execute_result",
          "data": {
            "text/plain": [
              "g    4\n",
              "h    7\n",
              "q    3\n",
              "t    1\n",
              "dtype: int64"
            ]
          },
          "metadata": {
            "tags": []
          },
          "execution_count": 8
        }
      ]
    },
    {
      "cell_type": "code",
      "metadata": {
        "id": "rumLKNzHcu-j",
        "colab_type": "code",
        "outputId": "6597a3e9-fbdb-4ca3-9a4d-57bf49706c7a",
        "colab": {
          "base_uri": "https://localhost:8080/",
          "height": 104
        }
      },
      "source": [
        "Series([4,7,3,1 ] , index = ['g' , 'h' , 'q' , 't'])"
      ],
      "execution_count": 9,
      "outputs": [
        {
          "output_type": "execute_result",
          "data": {
            "text/plain": [
              "g    4\n",
              "h    7\n",
              "q    3\n",
              "t    1\n",
              "dtype: int64"
            ]
          },
          "metadata": {
            "tags": []
          },
          "execution_count": 9
        }
      ]
    },
    {
      "cell_type": "code",
      "metadata": {
        "id": "ngkDkhuLcvEM",
        "colab_type": "code",
        "colab": {}
      },
      "source": [
        "#![](http://pngimg.com/uploads/google/google_PNG19635.png)"
      ],
      "execution_count": 0,
      "outputs": []
    },
    {
      "cell_type": "code",
      "metadata": {
        "id": "GtW0piHlcvKH",
        "colab_type": "code",
        "outputId": "bc9f458b-07b8-498f-bd81-5c76545bdcd2",
        "colab": {
          "base_uri": "https://localhost:8080/",
          "height": 104
        }
      },
      "source": [
        "b"
      ],
      "execution_count": 11,
      "outputs": [
        {
          "output_type": "execute_result",
          "data": {
            "text/plain": [
              "g    4\n",
              "h    7\n",
              "q    3\n",
              "t    1\n",
              "dtype: int64"
            ]
          },
          "metadata": {
            "tags": []
          },
          "execution_count": 11
        }
      ]
    },
    {
      "cell_type": "code",
      "metadata": {
        "id": "2dqSTC-ScvM8",
        "colab_type": "code",
        "outputId": "b7e78a49-f5eb-4f6d-b980-18112ad5a6e2",
        "colab": {
          "base_uri": "https://localhost:8080/",
          "height": 69
        }
      },
      "source": [
        "b[['g' , 'h']]"
      ],
      "execution_count": 12,
      "outputs": [
        {
          "output_type": "execute_result",
          "data": {
            "text/plain": [
              "g    4\n",
              "h    7\n",
              "dtype: int64"
            ]
          },
          "metadata": {
            "tags": []
          },
          "execution_count": 12
        }
      ]
    },
    {
      "cell_type": "code",
      "metadata": {
        "id": "QmPo0DXhcvSd",
        "colab_type": "code",
        "outputId": "437f987f-da62-49d2-b65b-0957ade19884",
        "colab": {
          "base_uri": "https://localhost:8080/",
          "height": 104
        }
      },
      "source": [
        "b*2"
      ],
      "execution_count": 13,
      "outputs": [
        {
          "output_type": "execute_result",
          "data": {
            "text/plain": [
              "g     8\n",
              "h    14\n",
              "q     6\n",
              "t     2\n",
              "dtype: int64"
            ]
          },
          "metadata": {
            "tags": []
          },
          "execution_count": 13
        }
      ]
    },
    {
      "cell_type": "code",
      "metadata": {
        "id": "8q322Hu1cvVq",
        "colab_type": "code",
        "outputId": "c0f43344-f7ba-42a8-eeb3-ac4515a6e0b8",
        "colab": {
          "base_uri": "https://localhost:8080/",
          "height": 52
        }
      },
      "source": [
        "b[b>6]"
      ],
      "execution_count": 14,
      "outputs": [
        {
          "output_type": "execute_result",
          "data": {
            "text/plain": [
              "h    7\n",
              "dtype: int64"
            ]
          },
          "metadata": {
            "tags": []
          },
          "execution_count": 14
        }
      ]
    },
    {
      "cell_type": "code",
      "metadata": {
        "id": "99Mro5YccvY1",
        "colab_type": "code",
        "outputId": "a1443783-f6c1-4a4d-9f33-4e02e48ca01b",
        "colab": {
          "base_uri": "https://localhost:8080/",
          "height": 104
        }
      },
      "source": [
        "np.exp(b)"
      ],
      "execution_count": 15,
      "outputs": [
        {
          "output_type": "execute_result",
          "data": {
            "text/plain": [
              "g      54.598150\n",
              "h    1096.633158\n",
              "q      20.085537\n",
              "t       2.718282\n",
              "dtype: float64"
            ]
          },
          "metadata": {
            "tags": []
          },
          "execution_count": 15
        }
      ]
    },
    {
      "cell_type": "code",
      "metadata": {
        "id": "ur466_jPJCVu",
        "colab_type": "code",
        "outputId": "03d3c2c1-a127-4be7-9c2c-824df2132bfd",
        "colab": {
          "base_uri": "https://localhost:8080/",
          "height": 104
        }
      },
      "source": [
        "b"
      ],
      "execution_count": 16,
      "outputs": [
        {
          "output_type": "execute_result",
          "data": {
            "text/plain": [
              "g    4\n",
              "h    7\n",
              "q    3\n",
              "t    1\n",
              "dtype: int64"
            ]
          },
          "metadata": {
            "tags": []
          },
          "execution_count": 16
        }
      ]
    },
    {
      "cell_type": "code",
      "metadata": {
        "id": "PjCqwHlZcveS",
        "colab_type": "code",
        "outputId": "93720f86-18c6-4aaa-994b-50ed96e96f9b",
        "colab": {
          "base_uri": "https://localhost:8080/",
          "height": 34
        }
      },
      "source": [
        "'h' in b"
      ],
      "execution_count": 17,
      "outputs": [
        {
          "output_type": "execute_result",
          "data": {
            "text/plain": [
              "True"
            ]
          },
          "metadata": {
            "tags": []
          },
          "execution_count": 17
        }
      ]
    },
    {
      "cell_type": "code",
      "metadata": {
        "id": "11C6vVIycvkT",
        "colab_type": "code",
        "colab": {}
      },
      "source": [
        "d1 = {1 : 'hi' , 2 : 'hello'}"
      ],
      "execution_count": 0,
      "outputs": []
    },
    {
      "cell_type": "code",
      "metadata": {
        "id": "jAPzzkAncvnb",
        "colab_type": "code",
        "outputId": "9d0a02dd-0014-4c7b-ce3a-377125bf6506",
        "colab": {
          "base_uri": "https://localhost:8080/",
          "height": 69
        }
      },
      "source": [
        "Series(d1)"
      ],
      "execution_count": 19,
      "outputs": [
        {
          "output_type": "execute_result",
          "data": {
            "text/plain": [
              "1       hi\n",
              "2    hello\n",
              "dtype: object"
            ]
          },
          "metadata": {
            "tags": []
          },
          "execution_count": 19
        }
      ]
    },
    {
      "cell_type": "code",
      "metadata": {
        "id": "xXwOz2sgcvt8",
        "colab_type": "code",
        "outputId": "4028de47-878c-4d9a-f20c-f72dd5dda72b",
        "colab": {
          "base_uri": "https://localhost:8080/",
          "height": 615
        }
      },
      "source": [
        "import numpy as np\n",
        "from sklearn.cluster import MeanShift# as ms\n",
        "from sklearn.datasets.samples_generator import make_blobs\n",
        "import matplotlib.pyplot as plt\n",
        "from mpl_toolkits.mplot3d import Axes3D\n",
        "from matplotlib import style\n",
        "style.use(\"ggplot\")\n",
        "\n",
        "centers = [[1,1,1],[5,5,5],[3,10,10]]\n",
        "\n",
        "X, _ = make_blobs(n_samples = 500, centers = centers, cluster_std = 1.5)\n",
        "\n",
        "\n",
        "\n",
        "ms = MeanShift()\n",
        "ms.fit(X)\n",
        "labels = ms.labels_\n",
        "cluster_centers = ms.cluster_centers_\n",
        "\n",
        "print(cluster_centers)\n",
        "\n",
        "n_clusters_ = len(np.unique(labels))\n",
        "\n",
        "print(\"Number of estimated clusters:\", n_clusters_)\n",
        "\n",
        "colors = 10*['r','g','b','c','k','y','m']\n",
        "\n",
        "print(colors)\n",
        "print(labels)\n",
        "\n",
        "fig = plt.figure()\n",
        "ax = fig.add_subplot(111, projection='3d')\n",
        "\n",
        "for i in range(len(X)):\n",
        "\n",
        "    ax.scatter(X[i][0], X[i][1], X[i][2], c=colors[labels[i]], marker='o')\n",
        "\n",
        "\n",
        "ax.scatter(cluster_centers[:,0],cluster_centers[:,1],cluster_centers[:,2],\n",
        "            marker=\"x\",color='k', s=150, linewidths = 5, zorder=10)\n",
        "\n",
        "plt.show()"
      ],
      "execution_count": 20,
      "outputs": [
        {
          "output_type": "stream",
          "text": [
            "/usr/local/lib/python3.6/dist-packages/sklearn/utils/deprecation.py:144: FutureWarning: The sklearn.datasets.samples_generator module is  deprecated in version 0.22 and will be removed in version 0.24. The corresponding classes / functions should instead be imported from sklearn.datasets. Anything that cannot be imported from sklearn.datasets is now part of the private API.\n",
            "  warnings.warn(message, FutureWarning)\n"
          ],
          "name": "stderr"
        },
        {
          "output_type": "stream",
          "text": [
            "[[3.18286022 3.00015446 3.05940082]\n",
            " [3.20067955 9.76165073 9.56811456]]\n",
            "Number of estimated clusters: 2\n",
            "['r', 'g', 'b', 'c', 'k', 'y', 'm', 'r', 'g', 'b', 'c', 'k', 'y', 'm', 'r', 'g', 'b', 'c', 'k', 'y', 'm', 'r', 'g', 'b', 'c', 'k', 'y', 'm', 'r', 'g', 'b', 'c', 'k', 'y', 'm', 'r', 'g', 'b', 'c', 'k', 'y', 'm', 'r', 'g', 'b', 'c', 'k', 'y', 'm', 'r', 'g', 'b', 'c', 'k', 'y', 'm', 'r', 'g', 'b', 'c', 'k', 'y', 'm', 'r', 'g', 'b', 'c', 'k', 'y', 'm']\n",
            "[1 1 1 0 1 0 1 1 0 0 0 0 0 0 1 1 0 0 1 0 0 0 1 0 0 1 0 1 0 1 0 0 0 0 1 0 1\n",
            " 1 0 0 0 1 1 0 1 0 1 1 0 0 0 1 0 1 1 1 1 0 0 0 1 0 0 0 0 0 0 1 0 1 0 1 0 0\n",
            " 1 1 1 1 0 0 1 1 0 0 0 0 0 0 1 0 0 1 0 0 1 1 1 0 0 1 0 0 1 1 1 0 1 1 1 1 1\n",
            " 0 0 1 0 0 0 0 1 1 0 0 0 0 0 0 0 0 0 0 0 0 0 1 1 1 0 0 0 1 0 0 0 0 0 1 1 1\n",
            " 0 1 0 0 0 0 0 1 0 0 0 0 0 0 1 0 0 0 0 0 0 1 1 1 0 0 1 0 1 1 0 0 0 1 1 1 0\n",
            " 1 0 1 0 1 1 0 0 0 0 1 0 0 1 0 0 0 1 0 1 1 0 0 0 0 1 0 1 0 1 0 1 1 0 0 0 0\n",
            " 1 1 1 1 0 0 1 0 1 0 0 1 1 0 0 0 0 0 0 0 0 0 0 0 0 0 0 1 0 0 0 0 1 0 0 1 0\n",
            " 0 1 1 1 0 0 0 0 0 0 1 1 1 1 1 1 1 0 0 1 1 0 1 0 1 0 0 0 0 0 1 0 1 0 1 0 0\n",
            " 0 0 1 1 0 0 1 0 1 0 1 0 1 1 1 0 1 0 0 0 0 1 0 0 1 0 0 0 1 1 1 1 1 0 0 1 0\n",
            " 0 0 0 0 0 1 1 0 0 1 1 0 0 1 1 0 1 0 0 1 1 0 0 0 0 1 1 0 1 1 0 1 1 1 0 0 0\n",
            " 0 1 1 1 1 0 0 0 0 1 0 0 0 0 0 0 0 0 1 1 1 1 0 0 0 0 0 0 0 0 0 1 1 0 0 0 0\n",
            " 0 0 1 0 0 0 0 0 1 1 1 1 0 0 0 1 0 0 1 0 0 0 0 1 0 0 1 0 0 0 0 1 1 0 0 1 0\n",
            " 0 1 0 0 0 1 1 0 0 0 0 0 1 0 0 0 0 0 1 0 0 0 1 0 0 0 0 0 0 0 0 0 0 0 0 0 0\n",
            " 0 1 0 0 0 0 1 0 0 0 0 0 0 0 0 1 0 1 1]\n"
          ],
          "name": "stdout"
        },
        {
          "output_type": "display_data",
          "data": {
            "image/png": "[encoded data removed]",
            "text/plain": [
              "<Figure size 432x288 with 1 Axes>"
            ]
          },
          "metadata": {
            "tags": []
          }
        }
      ]
    }
  ]
}